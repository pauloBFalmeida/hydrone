{
 "cells": [
  {
   "cell_type": "code",
   "execution_count": 1,
   "metadata": {},
   "outputs": [],
   "source": [
    "import numpy as np\n",
    "import random\n",
    "# Run the fitness \n",
    "from oct2py import Oct2Py\n",
    "from multiprocessing.pool import ThreadPool \n",
    "# Run multiple Zs as different processes\n",
    "from multiprocessing import Pool\n",
    "# to save the progress of the algorithms\n",
    "import csv\n",
    "from datetime import datetime\n",
    "from os import mkdir"
   ]
  },
  {
   "cell_type": "code",
   "execution_count": 2,
   "metadata": {},
   "outputs": [],
   "source": [
    "# -------- range of the variables ----------\n",
    "V_S = 7.0                   # service speed [kn]\n",
    "range_D     = [0.5, 0.8]\n",
    "range_AEdAO = [0.3, 1.05]\n",
    "range_PdD   = [0.5, 1.4]\n",
    "range_Z     = [2, 7]\n",
    "\n",
    "# Define the lower and upper bounds for each variable\n",
    "lower_bounds = [range_D[0], range_AEdAO[0], range_PdD[0]]\n",
    "upper_bounds = [range_D[1], range_AEdAO[1], range_PdD[1]]"
   ]
  },
  {
   "cell_type": "code",
   "execution_count": 3,
   "metadata": {},
   "outputs": [],
   "source": [
    "SET_SIZE = 4       # size of set for each param\n",
    "\n",
    "# MAX_ITERATION = 150 // (SET_SIZE*3) \n",
    "MAX_ITERATION = 12 # number of iterations"
   ]
  },
  {
   "cell_type": "code",
   "execution_count": 16,
   "metadata": {},
   "outputs": [],
   "source": [
    "save_file = False\n",
    "save_in_same_dir = False\n",
    "\n",
    "if save_file:    \n",
    "    if save_in_same_dir:\n",
    "        # create main_date dir\n",
    "        now = datetime.now()\n",
    "        main_dir_name = 'main_' + now.strftime(\"%Y_%m_%d_%H_%M\")\n",
    "        try:\n",
    "            mkdir(main_dir_name)\n",
    "        except: pass"
   ]
  },
  {
   "cell_type": "code",
   "execution_count": 17,
   "metadata": {},
   "outputs": [],
   "source": [
    "def append_to_file(filename, row):\n",
    "    with open(filename, 'a', newline='') as file:\n",
    "        writer = csv.writer(file)\n",
    "        writer.writerow(row)\n",
    "    \n",
    "def append_to_file_order(filename, D='', AEdAO='', PdD='', Z='', P_B='', n='', fitness='', i=''):\n",
    "    row = [D, AEdAO, PdD, Z, P_B, n, fitness, i]\n",
    "    append_to_file(filename, row)\n",
    "    \n",
    "def create_file(text):\n",
    "    filename = dir_name+'/' + text +'.csv'\n",
    "    with open(filename, 'w', newline='') as file:\n",
    "        writer = csv.writer(file)\n",
    "        header = [\"D = propeller diameter [m]\", \n",
    "                  \"AEdAO = expanded area ratio\", \n",
    "                  \"PdD = pitch ratio\", \n",
    "                  \"Z = propeller's number of blades\", \n",
    "                  \"P_B = power brake\", \n",
    "                  \"n = Propeller angular speed [rpm]\", \n",
    "                  \"fitness\", \n",
    "                  \"i = thread pool id\"]\n",
    "        writer.writerow(header) \n",
    "    return filename\n",
    "\n",
    "def create_dir(text):\n",
    "    if save_in_same_dir:\n",
    "        dir_name = './' + main_dir_name + '/' + text\n",
    "    else:\n",
    "        now = datetime.now()\n",
    "        dir_name = './' + text +'_'+ now.strftime(\"%Y_%m_%d_%H_%M\")\n",
    "    try:\n",
    "        mkdir(dir_name)\n",
    "    except: pass\n",
    "    return dir_name"
   ]
  },
  {
   "cell_type": "code",
   "execution_count": 18,
   "metadata": {},
   "outputs": [],
   "source": [
    "def run_octave_evaluation(V_S,D,Z,AEdAO,PdD):\n",
    "    P_B, n = [0, 0]\n",
    "    with Oct2Py() as octave:\n",
    "        octave.warning (\"off\", \"Octave:data-file-in-path\");\n",
    "        octave.addpath('./allCodesOctave');\n",
    "        P_B, n = octave.F_LabH2(V_S,D,Z,AEdAO,PdD, nout=2)\n",
    "    return [P_B, n]"
   ]
  },
  {
   "cell_type": "code",
   "execution_count": 30,
   "metadata": {},
   "outputs": [],
   "source": [
    "def evaluate_solution(x, i=None):\n",
    "    D     = x[0]\n",
    "    AEdAO = x[1]\n",
    "    PdD   = x[2]\n",
    "    # verify that the values are in range\n",
    "    penalty = -1000\n",
    "    if (D > range_D[1] or D < range_D[0]):\n",
    "        print(\"out\",\"_D_:\",D,\"Z:\",Z,\"AEdAO:\",AEdAO,\"PdD:\",PdD)\n",
    "        return penalty\n",
    "    if (AEdAO > range_AEdAO[1] or AEdAO < range_AEdAO[0]):\n",
    "        print(\"out\",\"D:\",D,\"Z:\",Z,\"_AEdAO_:\",AEdAO,\"PdD:\",PdD)\n",
    "        return penalty\n",
    "    if (PdD > range_PdD[1] or PdD < range_PdD[0]):\n",
    "        print(\"out\",\"D:\",D,\"Z:\",Z,\"AEdAO:\",AEdAO,\"_PdD_:\",PdD)\n",
    "        return penalty\n",
    "\n",
    "    P_B, n = run_octave_evaluation(V_S,D,Z,AEdAO,PdD)\n",
    "    # to get the minimal P_B \n",
    "    # the solvers use the max value as best fitness\n",
    "    fit_value = 0\n",
    "    if (P_B == 0 or n == 0):\n",
    "        fit_value = penalty\n",
    "    else:\n",
    "        fit_value = -P_B\n",
    "    \n",
    "    print(\"D:\",D,\"Z:\",Z,\"AEdAO:\",AEdAO,\"PdD:\",PdD, \"fitness:\",fit_value)\n",
    "    if save_file:\n",
    "        append_to_file(filename, [D, AEdAO, PdD, Z, P_B, n, fit_value, i])\n",
    "\n",
    "    return fit_value\n",
    "\n",
    "# use evaluate_solution as the fitness function\n",
    "fit_func = evaluate_solution"
   ]
  },
  {
   "cell_type": "markdown",
   "metadata": {},
   "source": [
    "Logic for the iterations"
   ]
  },
  {
   "cell_type": "code",
   "execution_count": 20,
   "metadata": {},
   "outputs": [],
   "source": [
    "# run a list of params for evaluate, \n",
    "# receiving previous best_x, best_fitness and update them if new better result is found\n",
    "def run_list_parallel(x_list, best_x, best_fitness):\n",
    "    fitness_list = np.zeros(SET_SIZE)\n",
    "    # run fit_func in parallel\n",
    "    with ThreadPool() as pool:\n",
    "        id_x = [(k, x_list[k]) for k in range(SET_SIZE)]\n",
    "        fitness_wrapper = (lambda k, x: [k, fit_func(x)] )\n",
    "        for result in pool.starmap(fitness_wrapper, id_x):\n",
    "            k, fitness = result\n",
    "            fitness_list[k] = fitness\n",
    "    # go through the results and update the best result\n",
    "    for k in range(SET_SIZE):\n",
    "        x = x_list[k]\n",
    "        fitness = fitness_list[k]\n",
    "        # if not failed, update best\n",
    "        #  fitness is negative, so the best is the max\n",
    "        if (fitness != 0) and fitness > best_fitness:\n",
    "            best_fitness = fitness\n",
    "            best_x       = x\n",
    "    return [best_x, best_fitness]\n",
    "\n",
    "def run(z):\n",
    "    global Z\n",
    "    Z = z\n",
    "    # create history list\n",
    "    history = np.zeros(MAX_ITERATION+1)\n",
    "    # start with random params\n",
    "    x = [\n",
    "            random.uniform(range_D[0],     range_D[1]),\n",
    "            random.uniform(range_AEdAO[0], range_AEdAO[1]),\n",
    "            random.uniform(range_PdD[0],   range_PdD[1])\n",
    "          ]\n",
    "    # get the evaluation for the starting value\n",
    "    best_fitness = fit_func(x)\n",
    "    best_x       = x\n",
    "\n",
    "    history[0] = best_fitness\n",
    "    # run the iterations\n",
    "    for i in range(MAX_ITERATION):\n",
    "        # start the lists used for the parallel run\n",
    "        x_list       = [[] for _ in range(SET_SIZE)]\n",
    "        \n",
    "        # create a set of differents \n",
    "        # D\n",
    "        for j in range(SET_SIZE):\n",
    "            x_list[j] = best_x.copy()\n",
    "            # change D\n",
    "            x_list[j][0] = random.uniform(range_D[0], range_D[1])\n",
    "        best_x, best_fitness = run_list_parallel(x_list, best_x, best_fitness)\n",
    "        \n",
    "        # create a set of differents\n",
    "        # AEdAO\n",
    "        for j in range(SET_SIZE):\n",
    "            x_list[j] = best_x.copy()\n",
    "            # change AEdAO\n",
    "            x_list[j][1] = random.uniform(range_AEdAO[0], range_AEdAO[1])\n",
    "        best_x, best_fitness = run_list_parallel(x_list, best_x, best_fitness)\n",
    "        \n",
    "        # create a set of differents\n",
    "        # PdD\n",
    "        for j in range(SET_SIZE):\n",
    "            x_list[j] = best_x.copy()\n",
    "            # change PdD\n",
    "            x_list[j][2] = random.uniform(range_PdD[0], range_PdD[1])\n",
    "        best_x, best_fitness = run_list_parallel(x_list, best_x, best_fitness)\n",
    "        # end of iteration\n",
    "        print('Z:', Z, 'i:', i, '/' , MAX_ITERATION, 'best fitness:', best_fitness)\n",
    "        history[i+1] = best_fitness\n",
    "        if save_file:\n",
    "            append_to_file_order(filename, \"fitness at iteration\", i, fitness=best_fitness)\n",
    "    # return\n",
    "    return [Z, best_x, best_fitness, history]"
   ]
  },
  {
   "cell_type": "markdown",
   "metadata": {},
   "source": [
    "parallel"
   ]
  },
  {
   "cell_type": "code",
   "execution_count": 5,
   "metadata": {
    "scrolled": false
   },
   "outputs": [],
   "source": [
    "# create dir named 'greedy'\n",
    "if save_file:\n",
    "    global dir_name\n",
    "    dir_name = create_dir('greedy')\n",
    "    \n",
    "results = []\n",
    "with Pool() as pool:\n",
    "    for result in pool.map(run, range(range_Z[0],range_Z[1]+1)):\n",
    "        results.append(result)"
   ]
  },
  {
   "cell_type": "markdown",
   "metadata": {},
   "source": [
    "save results"
   ]
  },
  {
   "cell_type": "code",
   "execution_count": null,
   "metadata": {},
   "outputs": [],
   "source": [
    "# results[0] = [Z, (D, AEdAO, PdD), fitness, history]\n",
    "def get_best_result(results):\n",
    "    # get result with best fitness\n",
    "    best_result = max(results, key=(lambda x: x[2]))\n",
    "    \n",
    "    Z             =  best_result[0]\n",
    "    D, AEdAO, PdD =  best_result[1]\n",
    "    P_B           = -best_result[2]\n",
    "    print(\"D:\",D,\"Z:\",Z,\"AEdAO:\",AEdAO,\"PdD:\",PdD)\n",
    "    print(\"P_B:\",P_B)\n",
    "    \n",
    "    return best_result"
   ]
  },
  {
   "cell_type": "code",
   "execution_count": 28,
   "metadata": {},
   "outputs": [
    {
     "name": "stdout",
     "output_type": "stream",
     "text": [
      "Best result cmaes\n",
      "D: 0.7988608334288321 Z: 4 AEdAO: 0.7548515833013878 PdD: 0.7660413481976012\n",
      "P_B: 84.20862120777684\n"
     ]
    }
   ],
   "source": [
    "# sort by Z\n",
    "results.sort(key=(lambda r: r[0]))\n",
    "\n",
    "print(\"Best result greedy\")\n",
    "best_result = get_best_result(results)"
   ]
  },
  {
   "cell_type": "markdown",
   "metadata": {},
   "source": [
    "## Save"
   ]
  },
  {
   "cell_type": "code",
   "execution_count": 44,
   "metadata": {},
   "outputs": [
    {
     "name": "stdout",
     "output_type": "stream",
     "text": [
      "[7, array([0.78991985, 0.50443523, 1.05898221]), -86.6379717939757, array([-86.63797179])]\n"
     ]
    }
   ],
   "source": [
    "def save_best_result(result, solver_name, seed=None):\n",
    "    # in case there is main dir, save the best results in this same dir,\n",
    "    #     otherwise will save in the last dir created (openaies)\n",
    "    if save_in_same_dir\n",
    "        global dir_name, main_dir_name\n",
    "        dir_name = main_dir_name\n",
    "    # create the csv file with the headers\n",
    "    global filename\n",
    "    if seed:\n",
    "        filename = create_file('best_results_' + solver_name)\n",
    "    else:\n",
    "        filename = create_file('best_results_' + str(seed) + '_' + solver_name)\n",
    "    #\n",
    "    Z             = result[0]\n",
    "    D, AEdAO, PdD = result[1]\n",
    "    fitness       = result[2]\n",
    "    append_to_file_order(filename, D=D, AEdAO=AEdAO, PdD=PdD, Z=Z, fitness=fitness)\n",
    "    # if there is history to save\n",
    "    if (len(result) > 2):\n",
    "        history   = result[3]\n",
    "        append_to_file(filename, ['history'])\n",
    "        append_to_file(filename, history)\n",
    "        \n",
    "# ======== SAVE ============\n",
    "save_best_result(best_result, 'greedy')\n",
    "print('saved')"
   ]
  }
 ],
 "metadata": {
  "kernelspec": {
   "display_name": "Python 3 (ipykernel)",
   "language": "python",
   "name": "python3"
  },
  "language_info": {
   "codemirror_mode": {
    "name": "ipython",
    "version": 3
   },
   "file_extension": ".py",
   "mimetype": "text/x-python",
   "name": "python",
   "nbconvert_exporter": "python",
   "pygments_lexer": "ipython3",
   "version": "3.7.16"
  }
 },
 "nbformat": 4,
 "nbformat_minor": 2
}
