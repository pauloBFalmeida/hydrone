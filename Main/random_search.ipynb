{
 "cells": [
  {
   "cell_type": "code",
   "execution_count": 2,
   "metadata": {},
   "outputs": [],
   "source": [
    "import numpy as np\n",
    "import random\n",
    "# Run the fitness \n",
    "from oct2py import Oct2Py\n",
    "from multiprocessing.pool import ThreadPool \n",
    "# Run multiple Zs as different processes\n",
    "from multiprocessing import Pool\n",
    "# to save the progress of the algorithms\n",
    "import csv\n",
    "from datetime import datetime\n",
    "from os import mkdir"
   ]
  },
  {
   "cell_type": "code",
   "execution_count": 3,
   "metadata": {},
   "outputs": [],
   "source": [
    "# -------- range of the variables ----------\n",
    "V_S = 7.0                   # service speed [kn]\n",
    "range_D     = [0.5, 0.8]\n",
    "range_AEdAO = [0.3, 1.05]\n",
    "range_PdD   = [0.5, 1.4]\n",
    "range_Z     = [2, 7]\n",
    "\n",
    "# Define the lower and upper bounds for each variable\n",
    "lower_bounds = [range_D[0], range_AEdAO[0], range_PdD[0]]\n",
    "upper_bounds = [range_D[1], range_AEdAO[1], range_PdD[1]]"
   ]
  },
  {
   "cell_type": "code",
   "execution_count": 41,
   "metadata": {},
   "outputs": [],
   "source": [
    "MAX_ITERATION = 128 # number of iterations\n",
    "\n",
    "NUM_PARALLEL = 4    # number of evaluations done in parallel\n",
    " \n",
    "NUM_BATCHS_SAVE = 1 # save every (NUM_BATCHS_SAVE * NUM_PARALLEL) iterations\n",
    "# this will give aprox 32 saves, close to the number of iterations of others algorithms"
   ]
  },
  {
   "cell_type": "code",
   "execution_count": 12,
   "metadata": {},
   "outputs": [],
   "source": [
    "save_file = True\n",
    "save_in_same_dir = False\n",
    "\n",
    "if save_file:    \n",
    "    if save_in_same_dir:\n",
    "        # create main_date dir\n",
    "        now = datetime.now()\n",
    "        main_dir_name = 'main_' + now.strftime(\"%Y_%m_%d_%H_%M\")\n",
    "        try:\n",
    "            mkdir(main_dir_name)\n",
    "        except: pass"
   ]
  },
  {
   "cell_type": "code",
   "execution_count": 6,
   "metadata": {},
   "outputs": [],
   "source": [
    "def append_to_file(filename, row):\n",
    "    with open(filename, 'a', newline='') as file:\n",
    "        writer = csv.writer(file)\n",
    "        writer.writerow(row)\n",
    "    \n",
    "def append_to_file_order(filename, D='', AEdAO='', PdD='', Z='', P_B='', n='', fitness='', i=''):\n",
    "    row = [D, AEdAO, PdD, Z, P_B, n, fitness, i]\n",
    "    append_to_file(filename, row)\n",
    "    \n",
    "def create_file(text):\n",
    "    filename = dir_name+'/' + text +'.csv'\n",
    "    with open(filename, 'w', newline='') as file:\n",
    "        writer = csv.writer(file)\n",
    "        header = [\"D = propeller diameter [m]\", \n",
    "                  \"AEdAO = expanded area ratio\", \n",
    "                  \"PdD = pitch ratio\", \n",
    "                  \"Z = propeller's number of blades\", \n",
    "                  \"P_B = power brake\", \n",
    "                  \"n = Propeller angular speed [rpm]\", \n",
    "                  \"fitness\", \n",
    "                  \"i = thread pool id\"]\n",
    "        writer.writerow(header) \n",
    "    return filename\n",
    "\n",
    "def create_dir(text):\n",
    "    if save_in_same_dir:\n",
    "        dir_name = './' + main_dir_name + '/' + text\n",
    "    else:\n",
    "        now = datetime.now()\n",
    "        dir_name = './' + text +'_'+ now.strftime(\"%Y_%m_%d_%H_%M\")\n",
    "    try:\n",
    "        mkdir(dir_name)\n",
    "    except: pass\n",
    "    return dir_name"
   ]
  },
  {
   "cell_type": "code",
   "execution_count": 52,
   "metadata": {},
   "outputs": [],
   "source": [
    "def run_octave_evaluation(V_S,D,Z,AEdAO,PdD):\n",
    "    P_B, n = [0, 0]\n",
    "    with Oct2Py() as octave:\n",
    "        octave.warning (\"off\", \"Octave:data-file-in-path\");\n",
    "        octave.addpath('./allCodesOctave');\n",
    "        P_B, n = octave.F_LabH2(V_S,D,Z,AEdAO,PdD, nout=2)\n",
    "    return [P_B, n]"
   ]
  },
  {
   "cell_type": "code",
   "execution_count": 8,
   "metadata": {},
   "outputs": [],
   "source": [
    "def evaluate_solution(x, i=None):\n",
    "    D     = x[0]\n",
    "    AEdAO = x[1]\n",
    "    PdD   = x[2]\n",
    "    # verify that the values are in range\n",
    "    penalty = -1000\n",
    "    if (D > range_D[1] or D < range_D[0]):\n",
    "        print(\"out\",\"_D_:\",D,\"Z:\",Z,\"AEdAO:\",AEdAO,\"PdD:\",PdD)\n",
    "        return penalty\n",
    "    if (AEdAO > range_AEdAO[1] or AEdAO < range_AEdAO[0]):\n",
    "        print(\"out\",\"D:\",D,\"Z:\",Z,\"_AEdAO_:\",AEdAO,\"PdD:\",PdD)\n",
    "        return penalty\n",
    "    if (PdD > range_PdD[1] or PdD < range_PdD[0]):\n",
    "        print(\"out\",\"D:\",D,\"Z:\",Z,\"AEdAO:\",AEdAO,\"_PdD_:\",PdD)\n",
    "        return penalty\n",
    "\n",
    "    P_B, n = run_octave_evaluation(V_S,D,Z,AEdAO,PdD)\n",
    "    # to get the minimal P_B \n",
    "    # the solvers use the max value as best fitness\n",
    "    fit_value = 0\n",
    "    if (P_B == 0 or n == 0):\n",
    "        fit_value = penalty\n",
    "    else:\n",
    "        fit_value = -P_B\n",
    "    \n",
    "#     print(\"D:\",D,\"Z:\",Z,\"AEdAO:\",AEdAO,\"PdD:\",PdD, \"fitness:\",fit_value)\n",
    "    if save_file:\n",
    "        append_to_file(filename, [D, AEdAO, PdD, Z, P_B, n, fit_value, i])\n",
    "\n",
    "    return fit_value\n",
    "\n",
    "# use evaluate_solution as the fitness function\n",
    "fit_func = evaluate_solution"
   ]
  },
  {
   "cell_type": "code",
   "execution_count": 45,
   "metadata": {},
   "outputs": [],
   "source": [
    "def run(z):\n",
    "    global Z\n",
    "    Z = z\n",
    "    # create the csv file with the headers\n",
    "    if save_file:\n",
    "        global filename\n",
    "        filename = create_file(str(Z))\n",
    "    # create history list\n",
    "    history = np.zeros(MAX_ITERATION // NUM_ITER_SAVE)\n",
    "    # start best value\n",
    "    best_fitness = float('-inf')\n",
    "    best_x       = [-1, -1, -1]\n",
    "    \n",
    "    # execute for MAX_ITERATION in batches of NUM_PARALLEL\n",
    "    for i in range(MAX_ITERATION // NUM_PARALLEL):\n",
    "        fitness_list = np.zeros(NUM_PARALLEL)\n",
    "        # create a list of params for evaluation\n",
    "        x_list       = [[] for _ in range(NUM_PARALLEL)] \n",
    "        for k in range(NUM_PARALLEL):\n",
    "            # generate random values for params\n",
    "            x =  [\n",
    "                    random.uniform(range_D[0],     range_D[1]),\n",
    "                    random.uniform(range_AEdAO[0], range_AEdAO[1]),\n",
    "                    random.uniform(range_PdD[0],   range_PdD[1])\n",
    "                  ]\n",
    "            x_list[k] = x\n",
    "        # evaluate the list of params in parralel\n",
    "        with ThreadPool() as pool:\n",
    "            id_x = [(k, x_list[k]) for k in range(NUM_PARALLEL)]\n",
    "            fitness_wrapper = (lambda k, x: [k, fit_func(x)] )\n",
    "            for result in pool.starmap(fitness_wrapper, id_x):\n",
    "                k, fitness = result\n",
    "                fitness_list[k] = fitness\n",
    "        # go through the results and update the best result\n",
    "        for k in range(NUM_PARALLEL):\n",
    "            x = x_list[k]\n",
    "            fitness = fitness_list[k]  \n",
    "            # if not failed, update best\n",
    "            #  fitness is negative, so the best is the max\n",
    "            if (fitness != 0) and fitness > best_fitness:\n",
    "                best_fitness = fitness\n",
    "                best_x       = x\n",
    "        # end of batch\n",
    "        if (i % NUM_BATCHS_SAVE) == 0:\n",
    "            print('iteration:', i, 'best fitness:', best_fitness)\n",
    "            counter = i // NUM_BATCHS_SAVE\n",
    "            history[counter] = best_fitness\n",
    "            if save_file:\n",
    "                append_to_file_order(filename, \"fitness at iteration\", i, fitness=best_fitness)\n",
    "    # return\n",
    "    return [Z, best_x, best_fitness, history]"
   ]
  },
  {
   "cell_type": "markdown",
   "metadata": {},
   "source": [
    "parallel"
   ]
  },
  {
   "cell_type": "code",
   "execution_count": 46,
   "metadata": {
    "scrolled": false
   },
   "outputs": [
    {
     "name": "stdout",
     "output_type": "stream",
     "text": [
      "iteration: 0 best fitness: -85.69800564425884\n",
      "iteration: 1 best fitness: -85.69800564425884\n"
     ]
    }
   ],
   "source": [
    "if save_file:\n",
    "    global dir_name\n",
    "    dir_name = create_dir('random')\n",
    "    \n",
    "results = []\n",
    "with Pool() as pool:\n",
    "#     for result in pool.map(run, range(range_Z[0],range_Z[1]+1)):\n",
    "    for result in pool.map(run, [5]):\n",
    "        results.append(result)"
   ]
  },
  {
   "cell_type": "markdown",
   "metadata": {},
   "source": [
    "Results"
   ]
  },
  {
   "cell_type": "code",
   "execution_count": 47,
   "metadata": {},
   "outputs": [],
   "source": [
    "# results[0] = [Z, (D, AEdAO, PdD), fitness, history]\n",
    "def get_best_result(results):\n",
    "    # get result with best fitness\n",
    "    best_result = max(results, key=(lambda x: x[2]))\n",
    "    \n",
    "    Z             =  best_result[0]\n",
    "    D, AEdAO, PdD =  best_result[1]\n",
    "    P_B           = -best_result[2]\n",
    "    print(\"D:\",D,\"Z:\",Z,\"AEdAO:\",AEdAO,\"PdD:\",PdD)\n",
    "    print(\"P_B:\",P_B)\n",
    "    \n",
    "    return best_result"
   ]
  },
  {
   "cell_type": "code",
   "execution_count": 48,
   "metadata": {},
   "outputs": [
    {
     "name": "stdout",
     "output_type": "stream",
     "text": [
      "Best result random\n",
      "D: 0.7904542771984211 Z: 5 AEdAO: 0.8583280733567971 PdD: 0.9034546971871932\n",
      "P_B: 85.69800564425884\n"
     ]
    }
   ],
   "source": [
    "# sort by Z\n",
    "results.sort(key=(lambda r: r[0]))\n",
    "\n",
    "print(\"Best result random\")\n",
    "best_result = get_best_result(results)"
   ]
  },
  {
   "cell_type": "markdown",
   "metadata": {},
   "source": [
    "## Save"
   ]
  },
  {
   "cell_type": "code",
   "execution_count": 51,
   "metadata": {},
   "outputs": [
    {
     "name": "stdout",
     "output_type": "stream",
     "text": [
      "saved\n"
     ]
    }
   ],
   "source": [
    "def save_best_result(result, solver_name, seed=None):\n",
    "    # create the csv file with the headers\n",
    "    global filename\n",
    "    if seed != None:\n",
    "        filename = create_file('best_results_' + str(seed) + '_' + solver_name)\n",
    "    else:\n",
    "        filename = create_file('best_results_' + solver_name)\n",
    "    #\n",
    "    Z             = result[0]\n",
    "    D, AEdAO, PdD = result[1]\n",
    "    fitness       = result[2]\n",
    "    append_to_file_order(filename, D=D, AEdAO=AEdAO, PdD=PdD, Z=Z, fitness=fitness)\n",
    "    # if there is history to save\n",
    "    if (len(result) > 2):\n",
    "        history   = result[3]\n",
    "        append_to_file(filename, ['history'])\n",
    "        append_to_file(filename, history)\n",
    "        \n",
    "# ======== SAVE ============\n",
    "save_best_result(best_result, 'random')\n",
    "print('saved')"
   ]
  }
 ],
 "metadata": {
  "kernelspec": {
   "display_name": "Python 3 (ipykernel)",
   "language": "python",
   "name": "python3"
  },
  "language_info": {
   "codemirror_mode": {
    "name": "ipython",
    "version": 3
   },
   "file_extension": ".py",
   "mimetype": "text/x-python",
   "name": "python",
   "nbconvert_exporter": "python",
   "pygments_lexer": "ipython3",
   "version": "3.10.6"
  }
 },
 "nbformat": 4,
 "nbformat_minor": 2
}
