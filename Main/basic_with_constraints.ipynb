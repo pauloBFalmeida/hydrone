{
 "cells": [
  {
   "cell_type": "code",
   "execution_count": 2,
   "metadata": {},
   "outputs": [],
   "source": [
    "\n",
    "from oct2py import Oct2Py"
   ]
  },
  {
   "cell_type": "code",
   "execution_count": 3,
   "metadata": {},
   "outputs": [],
   "source": [
    "# -------- range of the variables ----------\n",
    "# V_S = 8.0                   # service speed [kn]\n",
    "range_D     = [0.5, 0.8]\n",
    "range_AEdAO = [0.3, 1.05]\n",
    "range_PdD   = [0.5, 1.4]\n",
    "range_Z     = [2, 7]"
   ]
  },
  {
   "cell_type": "code",
   "execution_count": 4,
   "metadata": {},
   "outputs": [],
   "source": [
    "def run_octave_evaluation(V_S,D,Z,AEdAO,PdD):\n",
    "    P_B, t075dD,tmin075dD, tal07R,cavLim, Vtip,Vtipmax = [-1, -1, -1, -1, -1, -1, -1]\n",
    "    with Oct2Py() as octave:\n",
    "        octave.warning (\"off\", \"Octave:data-file-in-path\");\n",
    "        octave.addpath('./allCodesOctave');\n",
    "        P_B, n, etaO,etaR, t075dD,tmin075dD, tal07R,cavLim, Vtip,Vtipmax = octave.F_LabH2_return_constraints(V_S,D,Z,AEdAO,PdD, nout=10)\n",
    "    return [P_B, t075dD,tmin075dD, tal07R,cavLim, Vtip,Vtipmax]"
   ]
  },
  {
   "cell_type": "code",
   "execution_count": 5,
   "metadata": {},
   "outputs": [],
   "source": [
    "V_S = 8.0"
   ]
  },
  {
   "cell_type": "code",
   "execution_count": 5,
   "metadata": {},
   "outputs": [],
   "source": [
    "# D     =\n",
    "# AEdAO =\n",
    "# PdD   = \n",
    "# Z     ="
   ]
  },
  {
   "cell_type": "code",
   "execution_count": 6,
   "metadata": {},
   "outputs": [],
   "source": [
    "Z = 6\n",
    "D, AEdAO, PdD = [0.79999896, 0.81018621, 0.68293395]"
   ]
  },
  {
   "cell_type": "code",
   "execution_count": 14,
   "metadata": {},
   "outputs": [],
   "source": [
    "# Fail Cav e Vel\n",
    "D, AEdAO, PdD, Z = (0.6822623278507148, 0.7933929589742894, 0.7456955560187639, 2)"
   ]
  },
  {
   "cell_type": "code",
   "execution_count": 10,
   "metadata": {},
   "outputs": [],
   "source": [
    "# Fail Cav\n",
    "D, AEdAO, PdD, Z = (0.6741173627263246, 0.9311408826698405, 0.8423038442328952, 2)"
   ]
  },
  {
   "cell_type": "code",
   "execution_count": 11,
   "metadata": {
    "scrolled": true
   },
   "outputs": [],
   "source": [
    "P_B, t075dD,tmin075dD, tal07R,cavLim, Vtip,Vtipmax = run_octave_evaluation(V_S,D,Z,AEdAO,PdD)"
   ]
  },
  {
   "cell_type": "code",
   "execution_count": 12,
   "metadata": {
    "scrolled": true
   },
   "outputs": [
    {
     "name": "stdout",
     "output_type": "stream",
     "text": [
      "P_B        178.34066418855517\n",
      "t075dD     0.016\n",
      "tmin075dD  0.01471843630882351\n",
      "tal07R     0.17959293137459176\n",
      "cavLim     0.1438561611803002\n",
      "Vtip       36.630544023859215\n",
      "Vtipmax    39.0\n"
     ]
    }
   ],
   "source": [
    "print('P_B       ',P_B)\n",
    "print('t075dD    ',t075dD)\n",
    "print('tmin075dD ',tmin075dD) \n",
    "print('tal07R    ',tal07R)\n",
    "print('cavLim    ',cavLim) \n",
    "print('Vtip      ',Vtip)\n",
    "print('Vtipmax   ',Vtipmax)"
   ]
  },
  {
   "cell_type": "code",
   "execution_count": 13,
   "metadata": {},
   "outputs": [
    {
     "name": "stdout",
     "output_type": "stream",
     "text": [
      "broke Cavitation 0.035736770194291556\n"
     ]
    }
   ],
   "source": [
    "# Strength Constraint\n",
    "if (t075dD < tmin075dD):\n",
    "    penalty = tmin075dD - t075dD\n",
    "    print('broke Strength', penalty)\n",
    "\n",
    "# Cavitation Constrant\n",
    "if (tal07R > cavLim):\n",
    "    penalty = tal07R - cavLim\n",
    "    print('broke Cavitation', penalty)\n",
    "\n",
    "# Peripherical Velocity Constraint\n",
    "if (Vtip > Vtipmax):\n",
    "    penalty = Vtip - Vtipmax\n",
    "    print('broke Velocity', penalty)"
   ]
  },
  {
   "cell_type": "code",
   "execution_count": 57,
   "metadata": {},
   "outputs": [
    {
     "name": "stdout",
     "output_type": "stream",
     "text": [
      "0.2484201573368926\n",
      "fit 222.64408004584197\n",
      "dif 44.30341585728681\n"
     ]
    }
   ],
   "source": [
    "fit_value = P_B * (1 + max( ((tal07R - cavLim)/cavLim) , 0 ))\n",
    "print((tal07R - cavLim)/cavLim)\n",
    "\n",
    "print('fit', fit_value)\n",
    "print('dif', abs(fit_value - P_B) )"
   ]
  }
 ],
 "metadata": {
  "kernelspec": {
   "display_name": "Python 3 (ipykernel)",
   "language": "python",
   "name": "python3"
  },
  "language_info": {
   "codemirror_mode": {
    "name": "ipython",
    "version": 3
   },
   "file_extension": ".py",
   "mimetype": "text/x-python",
   "name": "python",
   "nbconvert_exporter": "python",
   "pygments_lexer": "ipython3",
   "version": "3.10.12"
  }
 },
 "nbformat": 4,
 "nbformat_minor": 2
}
