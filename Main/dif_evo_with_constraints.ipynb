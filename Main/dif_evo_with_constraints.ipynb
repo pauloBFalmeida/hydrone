{
 "cells": [
  {
   "cell_type": "code",
   "execution_count": null,
   "metadata": {},
   "outputs": [],
   "source": [
    "from oct2py import Oct2Py\n",
    "\n",
    "import os\n",
    "import pandas as pd\n",
    "import csv"
   ]
  },
  {
   "cell_type": "code",
   "execution_count": null,
   "metadata": {},
   "outputs": [],
   "source": [
    "V_S = 7.0                   # service speed [kn]"
   ]
  },
  {
   "cell_type": "code",
   "execution_count": null,
   "metadata": {},
   "outputs": [],
   "source": [
    "n_runs = 3 # number of executions "
   ]
  },
  {
   "cell_type": "code",
   "execution_count": null,
   "metadata": {},
   "outputs": [],
   "source": [
    "seed = 1"
   ]
  },
  {
   "cell_type": "markdown",
   "metadata": {},
   "source": [
    "Fitness and Evaluation"
   ]
  },
  {
   "cell_type": "code",
   "execution_count": null,
   "metadata": {},
   "outputs": [],
   "source": [
    "# run the Octave script to get the power brake for the params\n",
    "def run_original(V_S, seed):\n",
    "    P_B, t075dD,tmin075dD, tal07R,cavLim, Vtip,Vtipmax = [-1, -1, -1, -1, -1, -1, -1]\n",
    "    output_filename = 'df_' + str(seed) + '.csv'\n",
    "    with Oct2Py() as octave:\n",
    "        octave.warning (\"off\", \"Octave:data-file-in-path\");\n",
    "        octave.addpath('./allCodesOctave');\n",
    "        octave.eval('pkg load statistics')\n",
    "        D, Z, AEdAO, PdD, P_B = octave.F_DifEvo_LH2_return_constraints(V_S, output_filename, nout=5)\n",
    "    return [P_B, t075dD,tmin075dD, tal07R,cavLim, Vtip,Vtipmax]"
   ]
  },
  {
   "cell_type": "code",
   "execution_count": null,
   "metadata": {},
   "outputs": [],
   "source": [
    "run_original(V_S, seed)"
   ]
  },
  {
   "cell_type": "markdown",
   "metadata": {},
   "source": [
    "## Make CSV"
   ]
  },
  {
   "cell_type": "code",
   "execution_count": null,
   "metadata": {},
   "outputs": [],
   "source": [
    "dir_to_save = 'to_csv'"
   ]
  },
  {
   "cell_type": "code",
   "execution_count": null,
   "metadata": {},
   "outputs": [],
   "source": [
    "def get_best_fit_number(x):\n",
    "    for i in range(len(x)):\n",
    "        x.iloc[i] = x.iloc[i][len('best fit at iteration '):]\n",
    "    return x\n",
    "\n",
    "col_names_original = ['D', 'Z', 'AEdAO', 'PdD', 'P_B', 'n', 'etaO', 'etaR', 't075dD','tmin075dD', 'tal07R','cavLim', 'Vtip','Vtipmax', 'fitness', 'iteration', 'population_i']\n",
    "col_names = ['D', 'AEdAO', 'PdD', 'Z', 'P_B', 'n', 'fitness', 't075dD','tmin075dD', 'tal07R','cavLim', 'Vtip','Vtipmax', 'penalty', 'valid']\n",
    "\n",
    "filename = 'df_' + str(seed) + '.csv'\n",
    "\n",
    "df = pd.read_csv(filename, header=None, skiprows=1, names=col_names_original)\n",
    "\n",
    "df = df[['D', 'AEdAO', 'PdD', 'Z', 'P_B', 'n', 'fitness', 't075dD','tmin075dD', 'tal07R','cavLim', 'Vtip','Vtipmax']]\n",
    "\n",
    "# -- Calculate validity --\n",
    "\n",
    "# insert the other collumns\n",
    "df.insert(df.shape[1], 'penalty', None)\n",
    "\n",
    "df.insert(df.shape[1], 'valid', True)\n",
    "\n",
    "# create temporary\n",
    "df['temp_cav'] = (df['tal07R'] - df['cavLim'])/df['cavLim']\n",
    "df['temp_cav'] = df['temp_cav'].clip(lower=0)\n",
    "df['temp_spd'] = (df['Vtip'] - df['Vtipmax'])/df['Vtipmax']\n",
    "df['temp_spd'] = df['temp_spd'].clip(lower=0)\n",
    "df['temp_str'] = (df['tmin075dD'] - df['t075dD'])/df['tmin075dD']\n",
    "df['temp_str'] = df['temp_str'].clip(lower=0)\n",
    "# calculate\n",
    "df['penalty'] = df['temp_cav'] + df['temp_spd'] + df['temp_str']\n",
    "df['valid'] = (df['penalty'] == 0)\n",
    "# drop temp\n",
    "df = df.drop(['temp_cav', 'temp_spd', 'temp_str'], axis=1)\n",
    "\n",
    "\n",
    "# ajust the iteration counter with fitness\n",
    "df['D'] = df['D'].astype(str)\n",
    "df.loc[df['D'].str.contains('best'), 'fitness'] = df.loc[df['D'].str.contains('best'), 'Z']\n",
    "df.loc[df['D'].str.contains('best'), 'Z'] = None\n",
    "\n",
    "df.loc[df['D'].str.contains('best'), 'AEdAO'] = get_best_fit_number(df.loc[df['D'].str.contains('best'), 'D'])\n",
    "df.loc[df['D'].str.contains('best'), 'D'] = 'fitness at iteration'\n",
    "\n",
    "# -- add best value to the end --\n",
    "best_fit_to_find = df.loc[len(df)-1]['fitness']\n",
    "result_row = df[(df['fitness'] == best_fit_to_find) & (df['D'] != 'fitness at iteration')] # find row with best fitness\n",
    "new_row1 = {'D': 'Best Solution'} # create text row\n",
    "df.loc[len(df)] = new_row1 # add text row\n",
    "df.loc[len(df)] = result_row.iloc[0] # add row with values in the end\n",
    "\n",
    "# Check if the directory already exists\n",
    "if not os.path.exists(dir_to_save):\n",
    "    # Create the directory if it doesn't exist\n",
    "    os.makedirs(dir_to_save)\n",
    "    print(f\"Directory '{dir_to_save}' created.\")\n",
    "\n",
    "filename_out = dir_to_save+'/'+str(seed)+'.csv'\n",
    "df.to_csv(filename_out, index=False, header=True)\n",
    "\n",
    "print('saved:', filename_out)\n",
    "df"
   ]
  },
  {
   "cell_type": "markdown",
   "metadata": {},
   "source": [
    "# best result file"
   ]
  },
  {
   "cell_type": "markdown",
   "metadata": {},
   "source": [
    "create file"
   ]
  },
  {
   "cell_type": "code",
   "execution_count": null,
   "metadata": {},
   "outputs": [],
   "source": [
    "dir_name = dir_to_save\n",
    "\n",
    "# -- functions to save a file and create a dir --\n",
    "def create_file(text):\n",
    "    filename = dir_name+'/' + text +'.csv'\n",
    "    with open(filename, 'w', newline='') as file:\n",
    "        writer = csv.writer(file)\n",
    "        header = [\"D = propeller diameter [m]\",\n",
    "                  \"AEdAO = expanded area ratio\",\n",
    "                  \"PdD = pitch ratio\",\n",
    "                  \"Z = propeller's number of blades\",\n",
    "                  \"P_B = power brake\",\n",
    "                  \"n = Propeller angular speed [rpm]\",\n",
    "                  \"fitness\",\n",
    "                  \"i = thread pool id\"]\n",
    "        writer.writerow(header)\n",
    "    return filename\n",
    "\n",
    "def append_to_file(filename, row):\n",
    "    with open(filename, 'a', newline='') as file:\n",
    "        writer = csv.writer(file)\n",
    "        writer.writerow(row)\n",
    "        \n",
    "def append_to_file_order(filename, D='', AEdAO='', PdD='', Z='', P_B='', n='', fitness='', i=''):\n",
    "    row = [D, AEdAO, PdD, Z, P_B, n, fitness, i]\n",
    "    with open(filename, 'a', newline='') as file:\n",
    "        writer = csv.writer(file)\n",
    "        writer.writerow(row)\n",
    "\n",
    "def save_best_result(D, Z, AEdAO, PdD, fitness, seed, solver_name, P_B='', n='', history=''):\n",
    "    # create the csv file with the headers\n",
    "    fitness = -fitness\n",
    "    Z = int(Z)\n",
    "    filename = create_file('best_results_' + str(seed) + '_' + solver_name)\n",
    "    append_to_file_order(filename, D=D, AEdAO=AEdAO, PdD=PdD, Z=Z, P_B=P_B, n=P_B, fitness=fitness)\n",
    "    append_to_file(filename, ['history'])\n",
    "    append_to_file(filename, history)\n",
    "    print('saved', filename)"
   ]
  },
  {
   "cell_type": "code",
   "execution_count": null,
   "metadata": {},
   "outputs": [],
   "source": [
    "D       = float(result_row.iloc[0]['D'])\n",
    "Z       = int(result_row.iloc[0]['Z'])\n",
    "AEdAO   = float(result_row.iloc[0]['AEdAO'])\n",
    "PdD     = float(result_row.iloc[0]['PdD'])\n",
    "fitness = float(result_row.iloc[0]['fitness'])\n",
    "P_B = float(result_row.iloc[0]['P_B'])\n",
    "n = float(result_row.iloc[0]['n'])\n",
    "\n",
    "# history\n",
    "filename = 'df_' + str(seed) + '.csv'\n",
    "history = []\n",
    "with open(filename, 'r', newline='') as file:\n",
    "    reader = csv.reader(file, delimiter=',')\n",
    "    for row in reader:\n",
    "        if 'best' in row[0]:\n",
    "            # iteration = row[0].split(' ')[-1]\n",
    "            fit = -float(row[1])\n",
    "            history.append(str(fit))\n",
    "\n",
    "save_best_result(D, Z, AEdAO, PdD, fitness, seed, 'original', P_B=P_B, n=n, history=history)"
   ]
  }
 ],
 "metadata": {
  "kernelspec": {
   "display_name": "Python 3 (ipykernel)",
   "language": "python",
   "name": "python3"
  },
  "language_info": {
   "codemirror_mode": {
    "name": "ipython",
    "version": 3
   },
   "file_extension": ".py",
   "mimetype": "text/x-python",
   "name": "python",
   "nbconvert_exporter": "python",
   "pygments_lexer": "ipython3",
   "version": "3.10.12"
  }
 },
 "nbformat": 4,
 "nbformat_minor": 2
}
