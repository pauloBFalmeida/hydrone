{
 "cells": [
  {
   "cell_type": "code",
   "execution_count": 1,
   "metadata": {},
   "outputs": [],
   "source": [
    "import numpy as np\n",
    "import random\n",
    "import matplotlib.pyplot as plt\n",
    "# Algorithms\n",
    "import cma\n",
    "from es import CMAES, OpenES\n",
    "# Run the fitness \n",
    "from oct2py import Oct2Py\n",
    "from multiprocessing.pool import ThreadPool \n",
    "# Run multiple Zs as different processes\n",
    "from multiprocessing import Pool\n",
    "# to save the progress of the algorithms\n",
    "import csv\n",
    "from datetime import datetime\n",
    "from os import mkdir"
   ]
  },
  {
   "cell_type": "code",
   "execution_count": 2,
   "metadata": {},
   "outputs": [],
   "source": [
    "# -------- range of the variables ----------\n",
    "V_S = 8.0                   # service speed [kn]\n",
    "range_D     = [0.5, 0.8]\n",
    "range_AEdAO = [0.3, 1.05]\n",
    "range_PdD   = [0.5, 1.4]\n",
    "range_Z     = [2, 7]\n",
    "\n",
    "# Define the lower and upper bounds for each variable\n",
    "lower_bounds = [range_D[0], range_AEdAO[0], range_PdD[0]]\n",
    "upper_bounds = [range_D[1], range_AEdAO[1], range_PdD[1]]"
   ]
  },
  {
   "cell_type": "code",
   "execution_count": 3,
   "metadata": {},
   "outputs": [],
   "source": [
    "# CMAES\n",
    "NPOPULATION   = 5  # size of population\n",
    "MAX_ITERATION = 30 # run solver for this generations\n",
    "\n",
    "NPARAMS = 3  # number of parameters to evaluate\n",
    "SIGMA_INIT_CMAES    = 0.1"
   ]
  },
  {
   "cell_type": "code",
   "execution_count": 4,
   "metadata": {},
   "outputs": [
    {
     "name": "stdout",
     "output_type": "stream",
     "text": [
      "D     0.7533265554575145\n",
      "AEdAO 0.868465802205227\n",
      "PdD   0.8785144227477605\n"
     ]
    }
   ],
   "source": [
    "# seed for generating the random first element\n",
    "SEED = 0\n",
    "\n",
    "random.seed(SEED)\n",
    "x0 =  [\n",
    "        random.uniform(range_D[0],     range_D[1]),\n",
    "        random.uniform(range_AEdAO[0], range_AEdAO[1]),\n",
    "        random.uniform(range_PdD[0],   range_PdD[1])\n",
    "      ]\n",
    "\n",
    "print(\"D    \", x0[0])\n",
    "print(\"AEdAO\", x0[1])\n",
    "print(\"PdD  \", x0[2])"
   ]
  },
  {
   "cell_type": "code",
   "execution_count": 6,
   "metadata": {},
   "outputs": [],
   "source": [
    "save_file = True\n",
    "\n",
    "if save_file:    \n",
    "    # create main_date dir\n",
    "    now = datetime.now()\n",
    "    main_dir_name = 'main_' + now.strftime(\"%Y_%m_%d_%H_%M\")\n",
    "    try:\n",
    "        mkdir(main_dir_name)\n",
    "    except: pass\n",
    "    # save the configs in a file\n",
    "    filename = main_dir_name+'/' + 'configs.csv'\n",
    "    with open(filename, 'w', newline='') as file:\n",
    "            writer = csv.writer(file)\n",
    "            writer.writerow( [\"V_S\",            V_S] )\n",
    "            writer.writerow( [\"NPOPULATION\",    NPOPULATION] )\n",
    "            writer.writerow( [\"MAX_ITERATION\",  MAX_ITERATION] )\n",
    "            writer.writerow( [\"SEED\",           SEED] )\n",
    "            writer.writerow( [\"x0 D\",           x0[0]] )\n",
    "            writer.writerow( [\"x0 AEdAO\",       x0[1]] )\n",
    "            writer.writerow( [\"x0 PdD\",         x0[2]] )\n",
    "            writer.writerow( [\"SIGMA_INIT_CMAES\",SIGMA_INIT_CMAES] )\n"
   ]
  },
  {
   "cell_type": "code",
   "execution_count": 16,
   "metadata": {},
   "outputs": [],
   "source": [
    "# -- functions to save a file and create a dir --\n",
    "def append_to_file(filename, row):\n",
    "    with open(filename, 'a', newline='') as file:\n",
    "        writer = csv.writer(file)\n",
    "        writer.writerow(row)\n",
    "\n",
    "def append_to_file_order(filename, D='', AEdAO='', PdD='', Z='', P_B='', n='', fitness=''):\n",
    "    row = [D, AEdAO, PdD, Z, P_B, n, fitness]\n",
    "    with open(filename, 'a', newline='') as file:\n",
    "        writer = csv.writer(file)\n",
    "        writer.writerow(row)\n",
    "\n",
    "def create_file(dir_solver, text):\n",
    "    filename = dir_solver+'/' + text +'.csv'\n",
    "    with open(filename, 'w', newline='') as file:\n",
    "        writer = csv.writer(file)\n",
    "        header = [\"D = propeller diameter [m]\",\n",
    "                  \"AEdAO = expanded area ratio\",\n",
    "                  \"PdD = pitch ratio\",\n",
    "                  \"Z = propeller's number of blades\",\n",
    "                  \"P_B = power brake\",\n",
    "                  \"n = Propeller angular speed [rpm]\",\n",
    "                  \"fitness\",\n",
    "                  \"t075dD\",\n",
    "                  \"tmin075dD\",\n",
    "                  \"tal07R\",\n",
    "                  \"cavLim\",\n",
    "                  \"Vtip\",\n",
    "                  \"Vtipmax\",\n",
    "                  \"penalty\",\n",
    "                  \"valid\"\n",
    "                 ]\n",
    "        writer.writerow(header)\n",
    "    return filename\n",
    "\n",
    "def create_dir(text):\n",
    "    now = datetime.now()\n",
    "    dir_name = './' + text +'_'+ now.strftime(\"%Y_%m_%d_%H_%M\")\n",
    "    try:\n",
    "        mkdir(dir_name)\n",
    "    except: pass\n",
    "    return dir_name\n",
    "\n",
    "def save_best_result(dir_seed, solver_name, V_S, Npop, Mit, seed, D, Z, AEdAO, PdD, fitness, P_B='', n='', history=''):\n",
    "    # create the csv file with the headers\n",
    "    fitness = -fitness\n",
    "    Z = int(Z)\n",
    "    filename = create_file(dir_seed, 'best_results_' + str(seed) +'_'+ solver_name)\n",
    "    append_to_file_order(filename, D=D, AEdAO=AEdAO, PdD=PdD, Z=Z, P_B=P_B, n=P_B, fitness=fitness)\n",
    "    # history\n",
    "    append_to_file(filename, ['history'])\n",
    "    append_to_file(filename, history)\n",
    "    # config\n",
    "    append_to_file(filename, ['solver Name', 'V_S', 'NPOPULATION', 'MAX_ITERATION', 'SEED'])\n",
    "    append_to_file(filename, [ solver_name,    V_S,  Npop,         Mit,            seed])\n",
    "\n",
    "    print('saved', filename)\n"
   ]
  },
  {
   "cell_type": "markdown",
   "metadata": {},
   "source": [
    "Fitness and Evaluation"
   ]
  },
  {
   "cell_type": "code",
   "execution_count": 8,
   "metadata": {},
   "outputs": [],
   "source": [
    "# run the Octave script to get the power brake for the params\n",
    "def run_octave_evaluation(V_S,D,Z,AEdAO,PdD):\n",
    "    P_B, t075dD,tmin075dD, tal07R,cavLim, Vtip,Vtipmax = [-1, -1, -1, -1, -1, -1, -1]\n",
    "    with Oct2Py() as octave:\n",
    "        octave.warning (\"off\", \"Octave:data-file-in-path\");\n",
    "        octave.addpath('./allCodesOctave');\n",
    "        P_B, n, etaO,etaR, t075dD,tmin075dD, tal07R,cavLim, Vtip,Vtipmax = octave.F_LabH2_return_constraints(V_S,D,Z,AEdAO,PdD, nout=10)\n",
    "    return [P_B, t075dD,tmin075dD, tal07R,cavLim, Vtip,Vtipmax]"
   ]
  },
  {
   "cell_type": "code",
   "execution_count": 9,
   "metadata": {},
   "outputs": [],
   "source": [
    "# fitness function, to find the minimal power brake\n",
    "def evaluate_solution(x):\n",
    "    D     = x[0]\n",
    "    AEdAO = x[1]\n",
    "    PdD   = x[2]\n",
    "\n",
    "#     P_B, t075dD,tmin075dD, tal07R,cavLim, Vtip,Vtipmax\n",
    "    P_B, strength,strengthMin, cavitation,cavitationMax, velocity,velocityMax = run_octave_evaluation(V_S,D,Z,AEdAO,PdD)\n",
    "\n",
    "    # Fitness is Power Brake multiplied by 1 + the percentage of each constraint\n",
    "    fit_value = P_B * (1 + max(((cavitation - cavitationMax)/cavitationMax), 0) + max(((velocity - velocityMax)/velocityMax), 0) + max(((strengthMin - strength)/strengthMin), 0) )\n",
    "\n",
    "    # we want the minimal P_B\n",
    "    # the solvers use the max value as best fitness, so\n",
    "    fit_value *= -1\n",
    "\n",
    "    # save to the file\n",
    "    if save_file:\n",
    "        penalty = max(((cavitation - cavitationMax)/cavitationMax), 0) + max(((velocity - velocityMax)/velocityMax), 0) + max(((strengthMin - strength)/strengthMin), 0)\n",
    "        valid = (penalty == 0)\n",
    "        append_to_file(filename, [D, AEdAO, PdD, Z, P_B, 0, fit_value, strength,strengthMin, cavitation,cavitationMax, velocity,velocityMax, penalty, valid])\n",
    "\n",
    "    return fit_value\n"
   ]
  },
  {
   "cell_type": "code",
   "execution_count": 10,
   "metadata": {},
   "outputs": [],
   "source": [
    "# use evaluate_solution as the fitness function\n",
    "fit_func = evaluate_solution"
   ]
  },
  {
   "cell_type": "markdown",
   "metadata": {},
   "source": [
    "Run logic for each iteration of the solver"
   ]
  },
  {
   "cell_type": "code",
   "execution_count": 11,
   "metadata": {},
   "outputs": [],
   "source": [
    "\n",
    "# defines a function to use solver to solve fit_func\n",
    "def test_solver(solver):\n",
    "    # history of the best fitness at each iteration (generation)\n",
    "    history = np.zeros(MAX_ITERATION)\n",
    "    for j in range(MAX_ITERATION):\n",
    "        # ask for the population\n",
    "        solutions = solver.ask()\n",
    "        # create a list with the fitness\n",
    "        fitness_list = np.zeros(solver.popsize)\n",
    "        # parallel run of fitness evaluation\n",
    "        with ThreadPool() as pool:\n",
    "            id_solutions = [(i, solutions[i]) for i in range(len(solutions))]\n",
    "            # wrapper to add the index of solution in the array, to the response of the ThreadPool\n",
    "            # this keeps the fitness_list and solutions list in the same order (necessary)\n",
    "            fit_func_parallel_wrapper = (lambda i, x: [i, fit_func(x)] )\n",
    "            for result in pool.starmap(fit_func_parallel_wrapper, id_solutions, chunksize=4):\n",
    "                i, fitness = result\n",
    "                fitness_list[i] = fitness\n",
    "        # pass the fitness to the solver so it can decide the best individual\n",
    "        solver.tell(fitness_list)\n",
    "        result = solver.result() # first element is the best solution, second element is the best fitness\n",
    "        history[j] = result[1]   # best fitness\n",
    "        # print the process name (Z) and the iteration, and save in the csv\n",
    "        print('Z:',Z, \"fitness at iteration\", (j+1), result[1], flush=True)\n",
    "        if save_file:\n",
    "            append_to_file_order(filename, \"fitness at iteration\", j, fitness=result[1])\n",
    "    # best solution at the end of the solver's run\n",
    "    print(\"local optimum discovered by solver:\\n\", result[0])\n",
    "    print(\"fitness score at this local optimum:\", result[1])\n",
    "    return (history, result[0])"
   ]
  },
  {
   "cell_type": "markdown",
   "metadata": {},
   "source": [
    "solvers definition"
   ]
  },
  {
   "cell_type": "code",
   "execution_count": 19,
   "metadata": {
    "scrolled": true
   },
   "outputs": [
    {
     "name": "stdout",
     "output_type": "stream",
     "text": [
      "(2_w,5mirr1)-aCMA-ES (mu_w=1.6,w_1=73%) in dimension 3 (seed=758382, Sun Jan  7 19:28:18 2024)\n"
     ]
    }
   ],
   "source": [
    "# defines CMA-ES algorithm solver\n",
    "cmaes = CMAES(NPARAMS,\n",
    "              x0=x0,                     # initial parameters values to generate the population\n",
    "              popsize=NPOPULATION,\n",
    "              weight_decay=0.0,\n",
    "              sigma_init = SIGMA_INIT_CMAES,\n",
    "              lower_bounds=lower_bounds,\n",
    "              upper_bounds=upper_bounds,\n",
    "          )"
   ]
  },
  {
   "cell_type": "markdown",
   "metadata": {
    "collapsed": true
   },
   "source": [
    "## Parallel Run"
   ]
  },
  {
   "cell_type": "markdown",
   "metadata": {},
   "source": [
    "Logic"
   ]
  },
  {
   "cell_type": "code",
   "execution_count": 23,
   "metadata": {},
   "outputs": [],
   "source": [
    "# run the especified solver for the z passed\n",
    "def solver_for_Z(solver, z, dir_solver):\n",
    "    global Z\n",
    "    Z = z\n",
    "\n",
    "    # create the csv file with the headers\n",
    "    if save_file:\n",
    "        global filename\n",
    "        filename = create_file(dir_solver, str(Z))\n",
    "\n",
    "    # run the solver\n",
    "    history, best_solution = test_solver(solver)\n",
    "\n",
    "    # print best solution\n",
    "    D       = best_solution[0]\n",
    "    AEdAO   = best_solution[1]\n",
    "    PdD     = best_solution[2]\n",
    "    fitness = history[-1]\n",
    "    print(\"Z:\",Z, \"Best Solution:\", best_solution, 'with fitness:', fitness)\n",
    "\n",
    "    if save_file:\n",
    "        # write best solution to file\n",
    "        append_to_file(filename, [\"Best Solution\"])\n",
    "        append_to_file_order(filename, D=D, AEdAO=AEdAO, PdD=PdD, Z=Z, fitness=fitness)\n",
    "\n",
    "    return [Z, best_solution, fitness, history]"
   ]
  },
  {
   "cell_type": "code",
   "execution_count": 24,
   "metadata": {},
   "outputs": [],
   "source": [
    "# each element of the list results is [Z, (D, AEdAO, PdD), fitness, history]\n",
    "def get_best_result(results):\n",
    "    # get result with best fitness\n",
    "    best_result = max(results, key=(lambda x: x[2]))\n",
    "    # print the values\n",
    "    Z             =  best_result[0]\n",
    "    D, AEdAO, PdD =  best_result[1]\n",
    "    fitness       = -best_result[2]\n",
    "    print(\"D:\",D,\"Z:\",Z,\"AEdAO:\",AEdAO,\"PdD:\",PdD)\n",
    "    print(\"fitness:\",fitness)\n",
    "    return best_result"
   ]
  },
  {
   "cell_type": "markdown",
   "metadata": {},
   "source": [
    "CMAES parallel"
   ]
  },
  {
   "cell_type": "code",
   "execution_count": 25,
   "metadata": {
    "scrolled": true
   },
   "outputs": [
    {
     "name": "stdout",
     "output_type": "stream",
     "text": [
      "Z: 2 fitness at iteration 1 -155.28329600101432\n",
      "Z: 7 fitness at iteration 1 -140.81096061107672\n",
      "Z: 6 fitness at iteration 1 -138.8593241009689\n",
      "Z: 5 fitness at iteration 1 -139.22062933534605\n",
      "Z: 3 fitness at iteration 1 -147.7580290119651\n",
      "Z: 4 fitness at iteration 1 -142.0946540584963\n",
      "Z: 6 fitness at iteration 2 -136.12231391001689\n",
      "Z: 4 fitness at iteration 2 -139.64704559037366\n",
      "Z: 3 fitness at iteration 2 -145.6965787559565\n",
      "Z: 2 fitness at iteration 2 -155.28329600101432\n",
      "Z: 5 fitness at iteration 2 -136.59520772615082\n",
      "Z: 7 fitness at iteration 2 -137.95341717063113\n",
      "Z: 6 fitness at iteration 3 -136.12231391001689\n",
      "Z: 3 fitness at iteration 3 -145.6965787559565\n",
      "Z: 4 fitness at iteration 3 -139.64704559037366\n",
      "Z: 5 fitness at iteration 3 -136.59520772615082\n",
      "Z: 6 fitness at iteration 4 -136.12231391001689\n",
      "Z: 7 fitness at iteration 3 -137.95341717063113\n",
      "Z: 2 fitness at iteration 3 -155.2596748124995\n",
      "Z: 3 fitness at iteration 4 -145.6965787559565\n",
      "Z: 2 fitness at iteration 4 -155.2596748124995\n",
      "Z: 4 fitness at iteration 4 -139.64704559037366\n",
      "Z: 7 fitness at iteration 4 -137.95341717063113\n",
      "Z: 5 fitness at iteration 4 -136.59520772615082\n",
      "Z: 4 fitness at iteration 5 -139.64704559037366\n",
      "Z: 2 fitness at iteration 5 -154.7335810752628\n",
      "Z: 5 fitness at iteration 5 -136.59520772615082\n",
      "Z: 7 fitness at iteration 5 -137.95341717063113\n",
      "Z: 3 fitness at iteration 5 -145.6965787559565\n",
      "Z: 6 fitness at iteration 5 -136.12231391001689\n",
      "Z: 4 fitness at iteration 6 -139.64704559037366\n",
      "local optimum discovered by solver:\n",
      " [0.7999982  0.86318663 0.73673555]\n",
      "fitness score at this local optimum: -139.64704559037366\n",
      "Z: 4 Best Solution: [0.7999982  0.86318663 0.73673555] with fitness: -139.64704559037366\n",
      "Z: 5 fitness at iteration 6 -136.59520772615082\n",
      "local optimum discovered by solver:\n",
      " [0.7999982  0.86318663 0.73673555]\n",
      "fitness score at this local optimum: -136.59520772615082\n",
      "Z: 5 Best Solution: [0.7999982  0.86318663 0.73673555] with fitness: -136.59520772615082\n",
      "Z: 3 fitness at iteration 6 -145.6965787559565\n",
      "local optimum discovered by solver:\n",
      " [0.7999982  0.86318663 0.73673555]\n",
      "fitness score at this local optimum: -145.6965787559565\n",
      "Z: 3 Best Solution: [0.7999982  0.86318663 0.73673555] with fitness: -145.6965787559565\n",
      "Z: 2 fitness at iteration 6 -153.35821847050656\n",
      "local optimum discovered by solver:\n",
      " [0.79973848 1.01368428 0.92428829]\n",
      "fitness score at this local optimum: -153.35821847050656\n",
      "Z: 2 Best Solution: [0.79973848 1.01368428 0.92428829] with fitness: -153.35821847050656\n",
      "Z: 7 fitness at iteration 6 -137.95341717063113\n",
      "local optimum discovered by solver:\n",
      " [0.7999982  0.86318663 0.73673555]\n",
      "fitness score at this local optimum: -137.95341717063113\n",
      "Z: 7 Best Solution: [0.7999982  0.86318663 0.73673555] with fitness: -137.95341717063113\n",
      "Z: 6 fitness at iteration 6 -136.12231391001689\n",
      "local optimum discovered by solver:\n",
      " [0.7999982  0.86318663 0.73673555]\n",
      "fitness score at this local optimum: -136.12231391001689\n",
      "Z: 6 Best Solution: [0.7999982  0.86318663 0.73673555] with fitness: -136.12231391001689\n"
     ]
    }
   ],
   "source": [
    "if save_file:\n",
    "    global dir_name\n",
    "    dir_name = create_dir('cmaes')\n",
    "\n",
    "solver = cmaes\n",
    "results_cmaes = []\n",
    "# create a new process for to run each Z\n",
    "with Pool() as pool:\n",
    "    solver_zs = [(solver, z, dir_name) for z in range(range_Z[0],range_Z[1]+1)]\n",
    "    for result in pool.starmap(solver_for_Z, solver_zs):\n",
    "        results_cmaes.append(result)"
   ]
  },
  {
   "cell_type": "code",
   "execution_count": 26,
   "metadata": {},
   "outputs": [
    {
     "name": "stdout",
     "output_type": "stream",
     "text": [
      "Best result cmaes\n",
      "D: 0.7999981991413158 Z: 6 AEdAO: 0.8631866254328584 PdD: 0.7367355527088367\n",
      "fitness: 136.12231391001689\n"
     ]
    }
   ],
   "source": [
    "# sort by Z\n",
    "results_cmaes.sort(key=(lambda r: r[0]))\n",
    "\n",
    "print(\"Best result cmaes\")\n",
    "best_result_cmaes = get_best_result(results_cmaes)"
   ]
  },
  {
   "cell_type": "code",
   "execution_count": 27,
   "metadata": {},
   "outputs": [
    {
     "name": "stdout",
     "output_type": "stream",
     "text": [
      "2   P_B: -153.35821847050656\n",
      "3   P_B: -145.6965787559565\n",
      "4   P_B: -139.64704559037366\n",
      "5   P_B: -136.59520772615082\n",
      "6   P_B: -136.12231391001689\n",
      "7   P_B: -137.95341717063113\n"
     ]
    }
   ],
   "source": [
    "for r in results_cmaes:\n",
    "    print(r[0], '  P_B:', r[2])"
   ]
  },
  {
   "cell_type": "code",
   "execution_count": 28,
   "metadata": {},
   "outputs": [
    {
     "name": "stdout",
     "output_type": "stream",
     "text": [
      "\n",
      "D: 0.7997384841994272 Z: 2 AEdAO: 1.013684280710129 PdD: 0.9242882948958203\n",
      "fitness: 153.35821847050656\n",
      "real P_B: 153.35821847050656\n",
      "\n",
      "D: 0.7999981991413158 Z: 3 AEdAO: 0.8631866254328584 PdD: 0.7367355527088367\n",
      "fitness: 145.6965787559565\n",
      "real P_B: 145.6965787559565\n",
      "\n",
      "D: 0.7999981991413158 Z: 4 AEdAO: 0.8631866254328584 PdD: 0.7367355527088367\n",
      "fitness: 139.64704559037366\n",
      "real P_B: 139.64704559037366\n",
      "\n",
      "D: 0.7999981991413158 Z: 5 AEdAO: 0.8631866254328584 PdD: 0.7367355527088367\n",
      "fitness: 136.59520772615082\n",
      "real P_B: 136.59520772615082\n",
      "\n",
      "D: 0.7999981991413158 Z: 6 AEdAO: 0.8631866254328584 PdD: 0.7367355527088367\n",
      "fitness: 136.12231391001689\n",
      "real P_B: 136.12231391001689\n",
      "\n",
      "D: 0.7999981991413158 Z: 7 AEdAO: 0.8631866254328584 PdD: 0.7367355527088367\n",
      "fitness: 137.95341717063113\n",
      "real P_B: 137.95341717063113\n"
     ]
    }
   ],
   "source": [
    "valid_results_cmaes = []\n",
    "\n",
    "for r in results_cmaes:\n",
    "    Z             =  r[0]\n",
    "    D, AEdAO, PdD =  r[1]\n",
    "    fitness       = -r[2]\n",
    "    print()\n",
    "    print(\"D:\",D,\"Z:\",Z,\"AEdAO:\",AEdAO,\"PdD:\",PdD)\n",
    "    print(\"fitness:\",fitness)\n",
    "    # recalculate data for the found params\n",
    "    P_B, t075dD,tmin075dD, tal07R,cavLim, Vtip,Vtipmax = run_octave_evaluation(V_S,D,Z,AEdAO,PdD)\n",
    "    penalty = 0\n",
    "        # Strenght Constraint\n",
    "    if (t075dD < tmin075dD):\n",
    "        penalty = tmin075dD - t075dD\n",
    "        print('broke Strength', penalty)\n",
    "        # Cavitation Constraint\n",
    "    if (tal07R > cavLim):\n",
    "        penalty = tal07R - cavLim\n",
    "        print('broke Cavitation', penalty)\n",
    "        # Peripherical Velocity Constraint\n",
    "    if (Vtip > Vtipmax):\n",
    "        penalty = Vtip - Vtipmax\n",
    "        print('broke Velocity', penalty)\n",
    "    print(\"real P_B:\",P_B)\n",
    "    # if real P_B is the same of the fitness found in the solver, then result is valid\n",
    "    if fitness == P_B:\n",
    "        valid_results_cmaes.append(r)"
   ]
  },
  {
   "cell_type": "code",
   "execution_count": 29,
   "metadata": {},
   "outputs": [
    {
     "name": "stdout",
     "output_type": "stream",
     "text": [
      "2   P_B: -153.35821847050656\n",
      "3   P_B: -145.6965787559565\n",
      "4   P_B: -139.64704559037366\n",
      "5   P_B: -136.59520772615082\n",
      "6   P_B: -136.12231391001689\n",
      "7   P_B: -137.95341717063113\n"
     ]
    }
   ],
   "source": [
    "for r in valid_results_cmaes:\n",
    "    print(r[0], '  P_B:', r[2])"
   ]
  },
  {
   "cell_type": "code",
   "execution_count": 30,
   "metadata": {},
   "outputs": [
    {
     "name": "stdout",
     "output_type": "stream",
     "text": [
      "Best result cmaes\n",
      "D: 0.7999981991413158 Z: 6 AEdAO: 0.8631866254328584 PdD: 0.7367355527088367\n",
      "fitness: 136.12231391001689\n"
     ]
    }
   ],
   "source": [
    "print(\"Best result cmaes\")\n",
    "best_result_cmaes = get_best_result(valid_results_cmaes)"
   ]
  },
  {
   "cell_type": "code",
   "execution_count": 31,
   "metadata": {},
   "outputs": [
    {
     "data": {
      "text/plain": [
       "[6,\n",
       " array([0.7999982 , 0.86318663, 0.73673555]),\n",
       " -136.12231391001689,\n",
       " array([-138.8593241 , -136.12231391, -136.12231391, -136.12231391,\n",
       "        -136.12231391, -136.12231391])]"
      ]
     },
     "execution_count": 31,
     "metadata": {},
     "output_type": "execute_result"
    }
   ],
   "source": [
    "best_result_cmaes"
   ]
  },
  {
   "cell_type": "markdown",
   "metadata": {},
   "source": [
    "## Save the best result"
   ]
  },
  {
   "cell_type": "code",
   "execution_count": 39,
   "metadata": {},
   "outputs": [],
   "source": [
    "def save_best_result(result, solver_name, seed=None):\n",
    "    # create the csv file with the headers\n",
    "    global filename\n",
    "    if seed != None:\n",
    "        filename = create_file(dir_name, 'best_results_' + str(seed) + '_' + solver_name)\n",
    "    else:\n",
    "        filename = create_file(dir_name, 'best_results_' + solver_name)\n",
    "    #\n",
    "    Z             = result[0]\n",
    "    D, AEdAO, PdD = result[1]\n",
    "    fitness       = result[2]\n",
    "    append_to_file_order(filename, D=D, AEdAO=AEdAO, PdD=PdD, Z=Z, fitness=fitness)\n",
    "    # if there is history to save\n",
    "    if (len(result) > 2):\n",
    "        history   = result[3]\n",
    "        append_to_file(filename, ['history'])\n",
    "        append_to_file(filename, history)"
   ]
  },
  {
   "cell_type": "code",
   "execution_count": 40,
   "metadata": {},
   "outputs": [
    {
     "name": "stdout",
     "output_type": "stream",
     "text": [
      "saved\n"
     ]
    }
   ],
   "source": [
    "save_best_result(best_result_cmaes, 'cmaes')\n",
    "print('saved')"
   ]
  },
  {
   "cell_type": "markdown",
   "metadata": {},
   "source": [
    "## Analise"
   ]
  },
  {
   "cell_type": "code",
   "execution_count": 41,
   "metadata": {},
   "outputs": [],
   "source": [
    "# creates a figure for a list of tuples (label, history)\n",
    "def create_history_fig(labels, histories):\n",
    "    # Create a new figure\n",
    "    plt.figure(figsize=(16,8), dpi=150)\n",
    "\n",
    "    lines = []\n",
    "    for i in  range(len(histories)):\n",
    "        label_h = labels[i]\n",
    "        history = histories[i]\n",
    "        history = np.negative(history)\n",
    "        line, = plt.plot(history, linewidth=1.0, label=label_h)\n",
    "        lines.append(line)\n",
    "        \n",
    "    plt.legend(handles=lines, loc=4)\n",
    "\n",
    "    # Set x limits\n",
    "    # plt.xlim(0,50)\n",
    "\n",
    "    plt.xlabel('generation')\n",
    "    plt.ylabel('fitness')\n",
    "\n",
    "    # plt.savefig(\"./output_image.svg\")\n",
    "\n",
    "    plt.show()"
   ]
  },
  {
   "cell_type": "code",
   "execution_count": 42,
   "metadata": {
    "scrolled": false
   },
   "outputs": [
    {
     "name": "stdout",
     "output_type": "stream",
     "text": [
      "CMA-ES\n"
     ]
    },
    {
     "data": {
      "image/png": "[encoded data removed]",
      "text/plain": [
       "<Figure size 2400x1200 with 1 Axes>"
      ]
     },
     "metadata": {
      "needs_background": "light"
     },
     "output_type": "display_data"
    }
   ],
   "source": [
    "print(\"CMA-ES\")\n",
    "# Label each Z\n",
    "labels          = [str(r[0])     for r in results_cmaes]\n",
    "fitnesses_cmaes = np.array([r[3] for r in results_cmaes])\n",
    "# create image with Z's as labels\n",
    "create_history_fig(labels, fitnesses_cmaes)"
   ]
  }
 ],
 "metadata": {
  "kernelspec": {
   "display_name": "Python 3 (ipykernel)",
   "language": "python",
   "name": "python3"
  },
  "language_info": {
   "codemirror_mode": {
    "name": "ipython",
    "version": 3
   },
   "file_extension": ".py",
   "mimetype": "text/x-python",
   "name": "python",
   "nbconvert_exporter": "python",
   "pygments_lexer": "ipython3",
   "version": "3.10.12"
  }
 },
 "nbformat": 4,
 "nbformat_minor": 2
}
