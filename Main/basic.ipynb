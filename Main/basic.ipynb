{
 "cells": [
  {
   "cell_type": "code",
   "execution_count": 2,
   "metadata": {},
   "outputs": [],
   "source": [
    "import numpy as np\n",
    "# Run the fitness \n",
    "from oct2py import Oct2Py"
   ]
  },
  {
   "cell_type": "code",
   "execution_count": 3,
   "metadata": {},
   "outputs": [],
   "source": [
    "# -------- range of the variables ----------\n",
    "# V_S = 8.0                   # service speed [kn]\n",
    "range_D     = [0.5, 0.8]\n",
    "range_AEdAO = [0.3, 1.05]\n",
    "range_PdD   = [0.5, 1.4]\n",
    "range_Z     = [2, 7]\n",
    "\n",
    "# Define the lower and upper bounds for each variable\n",
    "lower_bounds = [range_D[0], range_AEdAO[0], range_PdD[0]]\n",
    "upper_bounds = [range_D[1], range_AEdAO[1], range_PdD[1]]"
   ]
  },
  {
   "cell_type": "code",
   "execution_count": 4,
   "metadata": {},
   "outputs": [],
   "source": [
    "def run_octave_evaluation(V_S,D,Z,AEdAO,PdD):\n",
    "    P_B, n = [0, 0]\n",
    "    with Oct2Py() as octave:\n",
    "        octave.warning (\"off\", \"Octave:data-file-in-path\");\n",
    "        octave.addpath('./allCodesOctave');\n",
    "        P_B, n = octave.F_LabH2(V_S,D,Z,AEdAO,PdD, nout=2)\n",
    "    return [P_B, n]"
   ]
  },
  {
   "cell_type": "code",
   "execution_count": 5,
   "metadata": {},
   "outputs": [],
   "source": [
    "V_S = 8.0"
   ]
  },
  {
   "cell_type": "code",
   "execution_count": 6,
   "metadata": {},
   "outputs": [],
   "source": [
    "# D     =\n",
    "# AEdAO =\n",
    "# PdD   = \n",
    "# Z     ="
   ]
  },
  {
   "cell_type": "code",
   "execution_count": 7,
   "metadata": {},
   "outputs": [],
   "source": [
    "Z = 6\n",
    "D, AEdAO, PdD = [0.79999896, 0.81018621, 0.68293395]"
   ]
  },
  {
   "cell_type": "code",
   "execution_count": 8,
   "metadata": {},
   "outputs": [
    {
     "data": {
      "text/plain": [
       "[135.5788745130505, 825.9510176006478]"
      ]
     },
     "execution_count": 8,
     "metadata": {},
     "output_type": "execute_result"
    }
   ],
   "source": [
    "run_octave_evaluation(V_S,D,Z,AEdAO,PdD)"
   ]
  }
 ],
 "metadata": {
  "kernelspec": {
   "display_name": "Python 3 (ipykernel)",
   "language": "python",
   "name": "python3"
  },
  "language_info": {
   "codemirror_mode": {
    "name": "ipython",
    "version": 3
   },
   "file_extension": ".py",
   "mimetype": "text/x-python",
   "name": "python",
   "nbconvert_exporter": "python",
   "pygments_lexer": "ipython3",
   "version": "3.10.12"
  }
 },
 "nbformat": 4,
 "nbformat_minor": 2
}
