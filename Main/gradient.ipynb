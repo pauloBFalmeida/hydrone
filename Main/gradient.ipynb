{
 "cells": [
  {
   "cell_type": "code",
   "execution_count": 1,
   "metadata": {},
   "outputs": [],
   "source": [
    "import numpy as np\n",
    "import random\n",
    "# Run the fitness \n",
    "from oct2py import Oct2Py\n",
    "from multiprocessing.pool import ThreadPool \n",
    "# Run multiple Zs as different processes\n",
    "from multiprocessing import Pool\n",
    "# to save the progress of the algorithms\n",
    "import csv\n",
    "from datetime import datetime\n",
    "from os import mkdir"
   ]
  },
  {
   "cell_type": "code",
   "execution_count": 2,
   "metadata": {},
   "outputs": [],
   "source": [
    "# -------- range of the variables ----------\n",
    "V_S = 7.0                   # service speed [kn]\n",
    "range_D     = [0.5, 0.8]\n",
    "range_AEdAO = [0.3, 1.05]\n",
    "range_PdD   = [0.5, 1.4]\n",
    "range_Z     = [2, 7]\n",
    "\n",
    "# Define the lower and upper bounds for each variable\n",
    "lower_bounds = [range_D[0], range_AEdAO[0], range_PdD[0]]\n",
    "upper_bounds = [range_D[1], range_AEdAO[1], range_PdD[1]]"
   ]
  },
  {
   "cell_type": "code",
   "execution_count": 3,
   "metadata": {},
   "outputs": [
    {
     "data": {
      "text/plain": [
       "{'D': 3, 'AEdAO': 2, 'PdD': 3}"
      ]
     },
     "execution_count": 3,
     "metadata": {},
     "output_type": "execute_result"
    }
   ],
   "source": [
    "NUM_PARALLEL = 4    # number of evaluations done in parallel\n",
    "\n",
    "   # size of step from each variable\n",
    "LIST_SIZE = {'D':     int((range_D[1]-range_D[0])        / 0.1),\n",
    "             'AEdAO': int((range_AEdAO[1]-range_AEdAO[0])/ 0.3),\n",
    "             'PdD':   int((range_PdD[1]-range_PdD[0])    / 0.3)}\n",
    "LIST_SIZE"
   ]
  },
  {
   "cell_type": "code",
   "execution_count": 25,
   "metadata": {},
   "outputs": [
    {
     "data": {
      "text/plain": [
       "18"
      ]
     },
     "execution_count": 25,
     "metadata": {},
     "output_type": "execute_result"
    }
   ],
   "source": [
    "t = [LIST_SIZE[v] for v in LIST_SIZE]\n",
    "all_iter = t[0]*t[1]*t[2]\n",
    "all_iter"
   ]
  },
  {
   "cell_type": "code",
   "execution_count": 5,
   "metadata": {},
   "outputs": [],
   "source": [
    "save_file = True"
   ]
  },
  {
   "cell_type": "code",
   "execution_count": 6,
   "metadata": {},
   "outputs": [],
   "source": [
    "def append_to_file(filename, row):\n",
    "    with open(filename, 'a', newline='') as file:\n",
    "        writer = csv.writer(file)\n",
    "        writer.writerow(row)\n",
    "    \n",
    "def append_to_file_order(filename, D='', AEdAO='', PdD='', Z='', P_B='', n='', fitness='', i=''):\n",
    "    row = [D, AEdAO, PdD, Z, P_B, n, fitness, i]\n",
    "    append_to_file(filename, row)\n",
    "    \n",
    "def create_file(text):\n",
    "    filename = dir_name+'/' + text +'.csv'\n",
    "    with open(filename, 'w', newline='') as file:\n",
    "        writer = csv.writer(file)\n",
    "        header = [\"D = propeller diameter [m]\", \n",
    "                  \"AEdAO = expanded area ratio\", \n",
    "                  \"PdD = pitch ratio\", \n",
    "                  \"Z = propeller's number of blades\", \n",
    "                  \"P_B = power brake\", \n",
    "                  \"n = Propeller angular speed [rpm]\", \n",
    "                  \"fitness\", \n",
    "                  \"i = thread pool id\"]\n",
    "        writer.writerow(header) \n",
    "    return filename\n",
    "\n",
    "def create_dir(text):\n",
    "    now = datetime.now()\n",
    "    dir_name = './' + text +'_'+ now.strftime(\"%Y_%m_%d_%H_%M\")\n",
    "    try:\n",
    "        mkdir(dir_name)\n",
    "    except: pass\n",
    "    return dir_name"
   ]
  },
  {
   "cell_type": "code",
   "execution_count": 7,
   "metadata": {},
   "outputs": [],
   "source": [
    "def run_octave_evaluation(V_S,D,Z,AEdAO,PdD):\n",
    "    P_B, n = [0, 0]\n",
    "    with Oct2Py() as octave:\n",
    "        octave.warning (\"off\", \"Octave:data-file-in-path\");\n",
    "        octave.addpath('./allCodesOctave');\n",
    "#         P_B, n = octave.F_LabH2(V_S,D,Z,AEdAO,PdD, nout=2)\n",
    "        P_B, n = octave.F_LabH2_aprox(V_S,D,Z,AEdAO,PdD, nout=2)\n",
    "    return [P_B, n]"
   ]
  },
  {
   "cell_type": "code",
   "execution_count": 23,
   "metadata": {},
   "outputs": [],
   "source": [
    "def evaluate_solution(x, i=None):\n",
    "    D     = x[0]\n",
    "    AEdAO = x[1]\n",
    "    PdD   = x[2]\n",
    "    # verify that the values are in range\n",
    "    penalty = -1000\n",
    "    if (D > range_D[1] or D < range_D[0]):\n",
    "        print(\"out\",\"_D_:\",D,\"Z:\",Z,\"AEdAO:\",AEdAO,\"PdD:\",PdD)\n",
    "        return penalty\n",
    "    if (AEdAO > range_AEdAO[1] or AEdAO < range_AEdAO[0]):\n",
    "        print(\"out\",\"D:\",D,\"Z:\",Z,\"_AEdAO_:\",AEdAO,\"PdD:\",PdD)\n",
    "        return penalty\n",
    "    if (PdD > range_PdD[1] or PdD < range_PdD[0]):\n",
    "        print(\"out\",\"D:\",D,\"Z:\",Z,\"AEdAO:\",AEdAO,\"_PdD_:\",PdD)\n",
    "        return penalty\n",
    "\n",
    "    P_B, n = run_octave_evaluation(V_S,D,Z,AEdAO,PdD)\n",
    "    # to get the minimal P_B \n",
    "    # the solvers use the max value as best fitness\n",
    "    fit_value = 0\n",
    "    if (P_B == 0 or n == 0):\n",
    "        fit_value = penalty\n",
    "    else:\n",
    "        fit_value = -P_B\n",
    "    \n",
    "#     print(\"D:\",D,\"Z:\",Z,\"AEdAO:\",AEdAO,\"PdD:\",PdD, \"fitness:\",fit_value)\n",
    "    if save_file:\n",
    "        append_to_file(filename, [D, AEdAO, PdD, Z, P_B, n, fit_value, i])\n",
    "\n",
    "    return fit_value\n",
    "\n",
    "def get_P_B(x, i=None):\n",
    "    D     = x[0]\n",
    "    AEdAO = x[1]\n",
    "    PdD   = x[2]\n",
    "    P_B, n = run_octave_evaluation(V_S,D,Z,AEdAO,PdD)\n",
    "    if save_file:\n",
    "        append_to_file(filename, [D, AEdAO, PdD, Z, P_B, n, '',''])\n",
    "    return P_B    \n",
    "\n",
    "# use evaluate_solution as the fitness function\n",
    "# fit_func = evaluate_solution\n",
    "fit_func = get_P_B"
   ]
  },
  {
   "cell_type": "markdown",
   "metadata": {},
   "source": [
    "Logic for the iterations"
   ]
  },
  {
   "cell_type": "code",
   "execution_count": 9,
   "metadata": {},
   "outputs": [],
   "source": [
    "def run_list_parallel(x_list):\n",
    "    fitness_list = np.zeros(NUM_PARALLEL)\n",
    "    # run fit_func in parallel\n",
    "    with ThreadPool() as pool:\n",
    "        id_x = [(k, x_list[k]) for k in range(NUM_PARALLEL)]\n",
    "        fitness_wrapper = (lambda k, x: [k, fit_func(x)] )\n",
    "        for result in pool.starmap(fitness_wrapper, id_x):\n",
    "            # ajust the results to be in the same order as the x_list\n",
    "            k, fitness = result\n",
    "            fitness_list[k] = fitness\n",
    "    # return fitness_list\n",
    "\n",
    "\n",
    "def add_to_compute_list(x, x_list):\n",
    "    print(x_list, '+', x)\n",
    "    x_list.append(x)\n",
    "\n",
    "    if len(x_list) == NUM_PARALLEL:\n",
    "        run_list_parallel(x_list)\n",
    "        x_list = []\n",
    "        print(x_list, 'clear')\n",
    "\n",
    "    # return x_list"
   ]
  },
  {
   "cell_type": "code",
   "execution_count": 10,
   "metadata": {},
   "outputs": [],
   "source": [
    "# def compute_between(lower_list, upper_list, step_list):\n",
    "#     lower_D, lower_AEdAO, lower_PdD = lower_list\n",
    "#     upper_D, upper_AEdAO, upper_PdD = upper_list\n",
    "#     step_D, step_AEdAO, step_PdD    = step_list\n",
    "               \n",
    "#     prev_result_D     = 0\n",
    "#     prev_result_AEdAO = 0\n",
    "#     prev_result_PdD   = 0\n",
    "        \n",
    "#     D = lower_D\n",
    "#     while D <= upper_D: \n",
    "#         AEdAO = lower_AEdAO\n",
    "#         while AEdAO <= upper_AEdAO:\n",
    "#             PdD = lower_PdD\n",
    "#             while PdD <= upper_PdD:\n",
    "#                 fit = fit_func((D, AEdAO, PdD))                    \n",
    "#                 PdD += step_PdD\n",
    "#             AEdAO += step_AEdAO\n",
    "#         D += step_D  \n",
    "    "
   ]
  },
  {
   "cell_type": "code",
   "execution_count": 26,
   "metadata": {},
   "outputs": [],
   "source": [
    "def run(z):\n",
    "    global Z\n",
    "    Z = z\n",
    "    # create the csv file with the headers\n",
    "    if save_file:\n",
    "        global filename\n",
    "        filename = create_file(str(Z))\n",
    "\n",
    "    list_D     = np.linspace(range_D[0],     range_D[1],     LIST_SIZE['D'])\n",
    "    list_AEdAO = np.linspace(range_AEdAO[0], range_AEdAO[1], LIST_SIZE['AEdAO'])\n",
    "    list_PdD   = np.linspace(range_PdD[0],   range_PdD[1],   LIST_SIZE['PdD'])\n",
    "    \n",
    "    counter = 0\n",
    "    for D in list_D:\n",
    "        for AEdAO in list_AEdAO:\n",
    "            for PdD in list_PdD:\n",
    "                get_P_B((D, AEdAO, PdD))\n",
    "                counter += 1\n",
    "                if (counter % 10) == 0:\n",
    "                    print('Z:',Z, counter,'/',all_iter)\n",
    "                    \n",
    "    return Z\n",
    "    \n",
    "#     D = range_D[0]\n",
    "#     while D <= range_D[1]:\n",
    "#         AEdAO = range_AEdAO[0]\n",
    "#         while AEdAO <= range_AEdAO[1]:\n",
    "#             PdD = range_PdD[0]\n",
    "#             while PdD <= range_PdD[1]:\n",
    "# #                 fit_func((D, AEdAO, PdD))\n",
    "#                 print((D, AEdAO, PdD))\n",
    "#                 PdD += STEP_SIZE['PdD']\n",
    "#             AEdAO += STEP_SIZE['AEdAO']\n",
    "#         D += STEP_SIZE['D']\n"
   ]
  },
  {
   "cell_type": "code",
   "execution_count": 13,
   "metadata": {
    "scrolled": true
   },
   "outputs": [],
   "source": [
    "# STEP_SIZE = {'D':     0.2,   # size of step from each variable\n",
    "#              'AEdAO': 0.2,\n",
    "#              'PdD':   0.2}\n",
    "# \n",
    "# counter = 0\n",
    "# \n",
    "# D = range_D[0]\n",
    "# while D <= range_D[1]:\n",
    "#     AEdAO = range_AEdAO[0]\n",
    "#     while AEdAO <= range_AEdAO[1]:\n",
    "#         PdD = range_PdD[0]\n",
    "#         while PdD <= range_PdD[1]:\n",
    "#             fit_func((D, AEdAO, PdD))\n",
    "#             print((D, AEdAO, PdD))\n",
    "#             counter += 1\n",
    "#             #             \n",
    "#             PdD += STEP_SIZE['PdD']\n",
    "#         AEdAO += STEP_SIZE['AEdAO']\n",
    "#     D += STEP_SIZE['D']"
   ]
  },
  {
   "cell_type": "code",
   "execution_count": 15,
   "metadata": {},
   "outputs": [],
   "source": [
    "# print(counter)\n",
    "# print(counter_D)\n",
    "# print(counter_AEdAO)\n",
    "# print(counter_PdD)"
   ]
  },
  {
   "cell_type": "markdown",
   "metadata": {},
   "source": [
    "parallel"
   ]
  },
  {
   "cell_type": "code",
   "execution_count": 27,
   "metadata": {
    "scrolled": true
   },
   "outputs": [
    {
     "name": "stdout",
     "output_type": "stream",
     "text": [
      "Z: 5 10 / 18\n",
      "Z: 4 10 / 18\n",
      "Z: 2 10 / 18\n",
      "Z: 3 10 / 18\n",
      "Z: 6 10 / 18\n",
      "Z: 7 10 / 18\n",
      "end of  2\n",
      "end of  3\n",
      "end of  4\n",
      "end of  5\n",
      "end of  6\n",
      "end of  7\n"
     ]
    }
   ],
   "source": [
    "# create dir named 'gradient'\n",
    "if save_file:\n",
    "    global dir_name\n",
    "    dir_name = create_dir('gradient')\n",
    "    \n",
    "if __name__ == '__main__':\n",
    "    with Pool() as pool:\n",
    "        for result_z in pool.map(run, range(range_Z[0],range_Z[1]+1)):\n",
    "            print('end of ', result_z)"
   ]
  },
  {
   "cell_type": "markdown",
   "metadata": {},
   "source": [
    "results"
   ]
  }
 ],
 "metadata": {
  "kernelspec": {
   "display_name": "Python 3 (ipykernel)",
   "language": "python",
   "name": "python3"
  },
  "language_info": {
   "codemirror_mode": {
    "name": "ipython",
    "version": 3
   },
   "file_extension": ".py",
   "mimetype": "text/x-python",
   "name": "python",
   "nbconvert_exporter": "python",
   "pygments_lexer": "ipython3",
   "version": "3.7.16"
  }
 },
 "nbformat": 4,
 "nbformat_minor": 2
}
