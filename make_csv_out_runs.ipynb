{
 "cells": [
  {
   "cell_type": "code",
   "execution_count": 91,
   "id": "261976ea",
   "metadata": {
    "scrolled": false
   },
   "outputs": [],
   "source": [
    "import os\n",
    "import pandas as pd\n",
    "import csv\n",
    "\n",
    "\n",
    "def get_best_fit_number(x):\n",
    "    for i in range(len(x)):\n",
    "        x.iloc[i] = x.iloc[i][len('best fit at iteration '):]\n",
    "    return x\n",
    "\n",
    "col_names_original = ['D', 'Z', 'AEdAO', 'PdD', 'P_B', 'n', 'etaO', 'etaR', 'iteration', 'population_i']\n",
    "col_names = ['D', 'AEdAO', 'PdD', 'Z', 'P_B', 'n', 'fitness', 't075dD','tmin075dD', 'tal07R','cavLim', 'Vtip','Vtipmax', 'penalty', 'valid']\n",
    "\n",
    "for i in range(10):\n",
    "    filename = 'allCodesOctave_' + str(i) + '/all_run.csv'\n",
    "    \n",
    "    df = pd.read_csv(filename, header=None, skiprows=1, names=col_names_original)\n",
    "    \n",
    "    df = df[['D', 'AEdAO', 'PdD', 'Z', 'P_B', 'n']]\n",
    "    df['fitness'] = df['P_B']\n",
    "    \n",
    "    # insert the other collumns\n",
    "    for col in ['t075dD','tmin075dD', 'tal07R','cavLim', 'Vtip','Vtipmax', 'penalty']:\n",
    "        df.insert(df.shape[1], col, None)\n",
    "    \n",
    "    df.insert(df.shape[1], 'valid', True)\n",
    "    \n",
    "    # ajust the iteration counter with fitness\n",
    "    df.loc[df['D'].str.contains('best'), 'fitness'] = df.loc[df['D'].str.contains('best'), 'Z']\n",
    "    df.loc[df['D'].str.contains('best'), 'Z'] = None\n",
    "    \n",
    "    df.loc[df['D'].str.contains('best'), 'AEdAO'] = get_best_fit_number(df.loc[df['D'].str.contains('best'), 'D'])\n",
    "    df.loc[df['D'].str.contains('best'), 'D'] = 'fitness at iteration'\n",
    "    \n",
    "    # add best value to the end\n",
    "    new_row1 = {'D': 'Best Solution'}\n",
    "    new_row2 = {'D': 'Best Solution'}\n",
    "    df.loc[len(df)] = new_row1\n",
    "    \n",
    "    filename_out = 'to_csv/'+str(i)+'.csv'\n",
    "    df.to_csv(filename_out, index=False, header=True)"
   ]
  },
  {
   "cell_type": "code",
   "execution_count": 5,
   "id": "e47161af",
   "metadata": {},
   "outputs": [
    {
     "name": "stdout",
     "output_type": "stream",
     "text": [
      "warning: function /home/paulo/Documents/hydrone/allCodesOctave_9/test.m shadows a core library function\n",
      "warning: called from\n",
      "    _pyeval at line 57 column 30\n",
      "\n"
     ]
    },
    {
     "data": {
      "text/plain": [
       "[0.0, 0.0]"
      ]
     },
     "execution_count": 5,
     "metadata": {},
     "output_type": "execute_result"
    }
   ],
   "source": [
    "# from oct2py import Oct2Py\n",
    "\n",
    "# def run_octave_evaluation(V_S,D,Z,AEdAO,PdD):\n",
    "#     P_B, n = [0, 0]\n",
    "#     with Oct2Py() as octave:\n",
    "#         octave.warning (\"off\", \"Octave:data-file-in-path\");\n",
    "#         octave.addpath('./allCodesOctave_9');\n",
    "#         P_B, n = octave.F_LabH2(V_S,D,Z,AEdAO,PdD, nout=2)\n",
    "#     return [P_B, n]\n",
    "\n",
    "# V_S = 7.5\n",
    "\n",
    "# # Z = 6\n",
    "# # D, AEdAO, PdD = [0.8, 0.7910, 0.6756]\n",
    "\n",
    "# D, Z, AEdAO, PdD = [0.800000,5,0.695818,0.705677]\n",
    "\n",
    "\n",
    "# run_octave_evaluation(V_S,D,Z,AEdAO,PdD)\n"
   ]
  }
 ],
 "metadata": {
  "kernelspec": {
   "display_name": "Python 3 (ipykernel)",
   "language": "python",
   "name": "python3"
  },
  "language_info": {
   "codemirror_mode": {
    "name": "ipython",
    "version": 3
   },
   "file_extension": ".py",
   "mimetype": "text/x-python",
   "name": "python",
   "nbconvert_exporter": "python",
   "pygments_lexer": "ipython3",
   "version": "3.10.12"
  }
 },
 "nbformat": 4,
 "nbformat_minor": 5
}
