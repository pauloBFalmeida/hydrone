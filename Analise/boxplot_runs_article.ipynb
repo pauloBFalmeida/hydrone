{
 "cells": [
  {
   "cell_type": "code",
   "execution_count": null,
   "metadata": {},
   "outputs": [],
   "source": [
    "import numpy as np\n",
    "import matplotlib.pyplot as plt\n",
    "import seaborn as sns\n",
    "import pandas as pd\n",
    "\n",
    "import csv\n",
    "from os import listdir"
   ]
  },
  {
   "cell_type": "code",
   "execution_count": null,
   "metadata": {},
   "outputs": [],
   "source": [
    "# -------- range of the variables ----------\n",
    "V_S = 7.0                   # service speed [kn]\n",
    "range_D     = [0.5, 0.8]\n",
    "range_AEdAO = [0.3, 1.05]\n",
    "range_PdD   = [0.5, 1.4]\n",
    "range_Z     = [2, 7]\n",
    "\n",
    "# Define the lower and upper bounds for each variable\n",
    "lower_bounds = [range_D[0], range_AEdAO[0], range_PdD[0]]\n",
    "upper_bounds = [range_D[1], range_AEdAO[1], range_PdD[1]]"
   ]
  },
  {
   "cell_type": "markdown",
   "metadata": {},
   "source": [
    "## Load files"
   ]
  },
  {
   "cell_type": "code",
   "execution_count": null,
   "metadata": {},
   "outputs": [],
   "source": [
    "# path to directory containing all the solvers folders \n",
    "dir_run = '../Main/run'"
   ]
  },
  {
   "cell_type": "code",
   "execution_count": null,
   "metadata": {},
   "outputs": [],
   "source": [
    "def get_best_result_df(best_result_file_path):\n",
    "    history = []\n",
    "    with open(best_result_file_path, 'r', newline='') as file:\n",
    "        reader = csv.reader(file)\n",
    "        counter = 0\n",
    "        for row in reader:\n",
    "            if counter == 1:\n",
    "                params = row\n",
    "            elif counter == 3:\n",
    "                history = row\n",
    "            elif counter == 5:\n",
    "                configs = row\n",
    "            counter += 1\n",
    "    # D, AEdAO, PdD, Z, fitness\n",
    "    D       = float(params[0])\n",
    "    AEdAO   = float(params[1])\n",
    "    PdD     = float(params[2])\n",
    "    Z       = int(params[3]) if len(params[3]) == 1 else int(float(params[3]))\n",
    "    fitness = float(params[6])\n",
    "    # history    \n",
    "    if len(history) > 0:\n",
    "        history = [float(h) for h in history]\n",
    "    # configs\n",
    "    solver_name = configs[0]\n",
    "    vs        = float(configs[1])\n",
    "    n_pop       = int(configs[2])\n",
    "    max_it      = int(configs[3])\n",
    "    seed        = int(configs[4])\n",
    "    # create new entry in df\n",
    "    new_data = {'D': D, \n",
    "                'AEdAO': AEdAO, \n",
    "                'PdD': PdD,\n",
    "                'Z': int(Z),\n",
    "                'Brake Power': -fitness,\n",
    "                'Seed': seed,\n",
    "                'Algorithm': solver_name,\n",
    "                'VS': vs,\n",
    "                'Npop': n_pop,\n",
    "                'maxIt': max_it}\n",
    "    return new_data"
   ]
  },
  {
   "cell_type": "code",
   "execution_count": null,
   "metadata": {
    "scrolled": true
   },
   "outputs": [],
   "source": [
    "data = {'D': [], 'AEdAO': [], 'PdD': [], 'Z': [], 'Brake Power': [], 'Seed': [], 'Algorithm': [], 'VS': [], 'Npop':[], 'maxIt':[]}\n",
    "df_results = pd.DataFrame(data)\n",
    "\n",
    "# enter in the folders until reach the files with the executions\n",
    "for solver_run in listdir(dir_run):\n",
    "    solver_run = dir_run+'/'+solver_run\n",
    "    # dir's created by the multiple_run_solver\n",
    "    for solver_vs in listdir(solver_run):\n",
    "        solver_vs = solver_run+'/'+solver_vs\n",
    "        for dir_seed in listdir(solver_vs):\n",
    "            dir_seed = solver_vs+'/'+dir_seed\n",
    "            # get the file with best results for that seed execution\n",
    "            best_result_file = [filename for filename in listdir(dir_seed) if 'best_results' in filename]\n",
    "            if len(best_result_file) > 0:\n",
    "                best_result_file = best_result_file[0]\n",
    "                best_result_file = dir_seed+'/'+best_result_file\n",
    "                new_data = get_best_result_df(best_result_file)\n",
    "                df_results = pd.concat([df_results, pd.DataFrame(new_data, index=[0])], ignore_index=True)\n",
    "            else:\n",
    "                print('not able to find best result file in', dir_seed)\n"
   ]
  },
  {
   "cell_type": "code",
   "execution_count": null,
   "metadata": {},
   "outputs": [],
   "source": [
    "# remove not used 'pop size', 'max generations'\n",
    "df_results = df_results.drop(['Npop', 'maxIt'], axis=1)"
   ]
  },
  {
   "cell_type": "code",
   "execution_count": null,
   "metadata": {},
   "outputs": [],
   "source": [
    "# rename Algorithm col\n",
    "solver_renames = {'cmaes':    'CMA-ES',\n",
    "                  'openaies': 'OpenAI-ES',\n",
    "                  'DE':       'DE Replicated',\n",
    "                  'DE_mod':   'DE Proposed'\n",
    "                 }\n",
    "\n",
    "df_results['Algorithm'] = df_results['Algorithm'].replace(solver_renames)"
   ]
  },
  {
   "cell_type": "code",
   "execution_count": null,
   "metadata": {},
   "outputs": [],
   "source": [
    "len(df_results)"
   ]
  },
  {
   "cell_type": "code",
   "execution_count": null,
   "metadata": {},
   "outputs": [],
   "source": [
    "df_results"
   ]
  },
  {
   "cell_type": "markdown",
   "metadata": {},
   "source": [
    "show info"
   ]
  },
  {
   "cell_type": "code",
   "execution_count": null,
   "metadata": {},
   "outputs": [],
   "source": [
    "df_results.groupby(['VS', 'Algorithm'])['Brake Power'].mean()"
   ]
  },
  {
   "cell_type": "markdown",
   "metadata": {},
   "source": [
    "Compare"
   ]
  },
  {
   "cell_type": "code",
   "execution_count": null,
   "metadata": {
    "scrolled": true
   },
   "outputs": [],
   "source": [
    "# Find the index of the row with the minimal fitness value\n",
    "min_fitness_index = df_results.groupby(['VS'])['Brake Power'].idxmin()\n",
    "\n",
    "# Get the row with the minimal fitness value\n",
    "min_fitness_row = df_results.loc[min_fitness_index]\n",
    "\n",
    "min_fitness_row"
   ]
  },
  {
   "cell_type": "code",
   "execution_count": null,
   "metadata": {},
   "outputs": [],
   "source": [
    "lower_values = df_results.groupby(['VS', 'Algorithm'])['Brake Power'].min()\n",
    "print(lower_values)"
   ]
  },
  {
   "cell_type": "code",
   "execution_count": null,
   "metadata": {},
   "outputs": [],
   "source": [
    "df_vs_7_0 = df_results[df_results['VS'] == 7]\n",
    "df_vs_7_5 = df_results[df_results['VS'] == 7.5]\n",
    "df_vs_8_0 = df_results[df_results['VS'] == 8]\n",
    "df_vs_8_5 = df_results[df_results['VS'] == 8.5]"
   ]
  },
  {
   "cell_type": "markdown",
   "metadata": {},
   "source": [
    "## Tables"
   ]
  },
  {
   "cell_type": "code",
   "execution_count": null,
   "metadata": {},
   "outputs": [],
   "source": [
    "def get_min_row(data):\n",
    "    index_min_PB = data.groupby('Algorithm')['Brake Power'].idxmin()\n",
    "    # Select original rows using index\n",
    "    rows_min_PB = data.loc[index_min_PB]\n",
    "    return rows_min_PB\n",
    "\n",
    "def get_min(data):\n",
    "    min_PB = data.groupby('Algorithm')['Brake Power'].min()\n",
    "    return min_PB"
   ]
  },
  {
   "cell_type": "code",
   "execution_count": null,
   "metadata": {},
   "outputs": [],
   "source": [
    "vs = 8.0"
   ]
  },
  {
   "cell_type": "code",
   "execution_count": null,
   "metadata": {},
   "outputs": [],
   "source": [
    "df_results[df_results['VS'] == vs].groupby('Algorithm')['Brake Power'].min()"
   ]
  },
  {
   "cell_type": "code",
   "execution_count": null,
   "metadata": {},
   "outputs": [],
   "source": [
    "print('VS Algortihm D AE/AO P/D Z')\n",
    "for r in get_min_row(data = df_vs_8_5).to_numpy():\n",
    "    d    = r[0]\n",
    "    aedao= r[1]\n",
    "    pdd  = r[2]\n",
    "    z    = r[3]\n",
    "    pb   = r[4]\n",
    "    algor= r[5]\n",
    "    vs   = r[6]\n",
    "    z = int(z)\n",
    "    print(f'{vs} & {algor} & {d:.3f} & {aedao:.3f} & {pdd:.3f} & {z}' + \" \\\\\\\\\" )"
   ]
  },
  {
   "cell_type": "code",
   "execution_count": null,
   "metadata": {},
   "outputs": [],
   "source": [
    "df_results[(df_results['VS'] == 8.5) & (df_results['Algorithm'] == 'DE Proposed')]"
   ]
  },
  {
   "cell_type": "markdown",
   "metadata": {},
   "source": [
    "## Grafics"
   ]
  },
  {
   "cell_type": "code",
   "execution_count": null,
   "metadata": {},
   "outputs": [],
   "source": [
    "def create_img(data, order, save_img=False, name='img'):\n",
    "    fig, ax = plt.subplots()\n",
    "\n",
    "    sns.boxplot(y=\"Brake Power\",\n",
    "                x = \"Algorithm\",\n",
    "                hue = 'Algorithm',\n",
    "                data=data,\n",
    "                order=order\n",
    "                )\n",
    "\n",
    "    sns.set_style(\"whitegrid\")\n",
    "    sns.set(rc={'figure.figsize':(12,9)})\n",
    "    plt.xticks(fontsize=14)\n",
    "    plt.yticks(fontsize=15)\n",
    "    title_text = \"VS = \"\n",
    "    for v in data['VS'].unique():\n",
    "        title_text += str(v)\n",
    "    plt.title(title_text, fontsize=15)\n",
    "    plt.xlabel('Algorithm',  fontsize=16)\n",
    "    plt.ylabel('Brake Power',fontsize=18)\n",
    "\n",
    "    if save_img:\n",
    "        plt.tight_layout()\n",
    "        plt.savefig(name+\".pdf\", dpi=300)"
   ]
  },
  {
   "cell_type": "code",
   "execution_count": null,
   "metadata": {},
   "outputs": [],
   "source": [
    "save = False"
   ]
  },
  {
   "cell_type": "code",
   "execution_count": null,
   "metadata": {
    "scrolled": false
   },
   "outputs": [],
   "source": [
    "create_img(data = df_vs_7_0,\n",
    "           order=['DE Replicated', 'DE Proposed', 'CMA-ES', 'OpenAI-ES'],\n",
    "           save=save,\n",
    "           name='boxplot_7_0' )"
   ]
  },
  {
   "cell_type": "code",
   "execution_count": null,
   "metadata": {},
   "outputs": [],
   "source": [
    "create_img(data = df_vs_7_5,\n",
    "           order=['DE Replicated', 'DE Proposed', 'CMA-ES', 'OpenAI-ES'],\n",
    "           save=save,\n",
    "           name='boxplot_7_5' )"
   ]
  },
  {
   "cell_type": "code",
   "execution_count": null,
   "metadata": {},
   "outputs": [],
   "source": [
    "create_img(data = df_vs_8_0,\n",
    "           order=['DE Proposed', 'CMA-ES', 'OpenAI-ES'],\n",
    "           save=save,\n",
    "           name='boxplot_8_0' )"
   ]
  },
  {
   "cell_type": "code",
   "execution_count": null,
   "metadata": {},
   "outputs": [],
   "source": [
    "create_img(data = df_vs_8_5,\n",
    "           order=['DE Proposed', 'CMA-ES', 'OpenAI-ES'],\n",
    "           save=save,\n",
    "           name='boxplot_8_5' )"
   ]
  },
  {
   "cell_type": "markdown",
   "metadata": {},
   "source": [
    "## Double graphs"
   ]
  },
  {
   "cell_type": "code",
   "execution_count": null,
   "metadata": {},
   "outputs": [],
   "source": [
    "rename_dict = {'CMA-ES': 'CMA-ES',\n",
    "               'OpenAI-ES': 'OpenAI-ES',\n",
    "               'DE Replicated': 'DE\\nReplicated',\n",
    "               'DE Proposed': 'DE\\nProposed'\n",
    "              }\n",
    "\n",
    "custom_order = {\n",
    "    'DE\\nReplicated': 1,\n",
    "    'DE\\nProposed':   2,\n",
    "    'CMA-ES':         3,\n",
    "    'OpenAI-ES':      4\n",
    "}"
   ]
  },
  {
   "cell_type": "code",
   "execution_count": null,
   "metadata": {},
   "outputs": [],
   "source": [
    "font_size = 14\n",
    "\n",
    "def multiple_boxplot(vs_values, save=False, only_put_1_legend=False):\n",
    "    # Create subplots with a shared x-axis\n",
    "    fig, ax = plt.subplots(1, len(vs_values), sharey='col', figsize=(11, 7))\n",
    "\n",
    "    for i, vs in enumerate(vs_values):\n",
    "        df_temp = df_results[df_results['VS'] == vs]\n",
    "        # rename \n",
    "        df_temp.loc[:,'Algorithm'] = df_temp['Algorithm'].map(rename_dict)\n",
    "        # Get unique values and sort them based on the custom order\n",
    "        unique_values = sorted(df_temp['Algorithm'].unique(), key=lambda x: custom_order[x])\n",
    "\n",
    "        # create the box plot\n",
    "        sns.boxplot(y=\"Brake Power\", \n",
    "                    x = \"Algorithm\",\n",
    "                    hue = 'Algorithm',\n",
    "                    order=unique_values,\n",
    "#                         palette=\"hls\", # Colors\n",
    "                    data=df_temp, ax=ax[i])  \n",
    "\n",
    "        # Set the title for the subplot\n",
    "        ax[i].set_title(f'VS = {vs}',   fontsize=font_size)\n",
    "        ax[i].tick_params(axis='both', labelsize=font_size) \n",
    "        # Set labels for x and y axes\n",
    "        ax[i].set_xlabel('Algorithm',   fontsize=font_size)\n",
    "        ax[i].set_ylabel('Brake Power', fontsize=font_size)\n",
    "\n",
    "        # ylim\n",
    "        minmax = df_temp['Brake Power'].agg(['min', 'max']).to_list()\n",
    "        ax[i].set_ylim(minmax[0]*0.999, minmax[1]*1.001) \n",
    "        \n",
    "        if only_put_1_legend:\n",
    "            # only put 1 legend\n",
    "            if i == 1:\n",
    "        #         ax[i].legend(loc='upper right')\n",
    "                legend = ax[i].legend(loc='upper left', bbox_to_anchor=(1, 1))\n",
    "            else:\n",
    "                ax[i].legend([],[], frameon=False)\n",
    "\n",
    "    # Adjust spacing between subplots\n",
    "    plt.tight_layout()\n",
    "    \n",
    "    # save\n",
    "    if save:\n",
    "        name_f  = 'boxplot'\n",
    "        # speed\n",
    "        name_f += '_' + \"and\".join([str(v) for v in vs_values])\n",
    "        name_f  = name_f.replace('.','_')\n",
    "        # file type\n",
    "        name_f += '.pdf'\n",
    "        plt.savefig(name_f, bbox_inches='tight')\n",
    "        print('saved', name_f)\n",
    "\n",
    "    # Show the plot\n",
    "    plt.show()"
   ]
  },
  {
   "cell_type": "code",
   "execution_count": null,
   "metadata": {},
   "outputs": [],
   "source": [
    "save=True"
   ]
  },
  {
   "cell_type": "code",
   "execution_count": null,
   "metadata": {},
   "outputs": [],
   "source": [
    "multiple_boxplot([7.0, 7.5], save=save)"
   ]
  },
  {
   "cell_type": "code",
   "execution_count": null,
   "metadata": {},
   "outputs": [],
   "source": [
    "multiple_boxplot([8.0, 8.5], save=save)"
   ]
  },
  {
   "cell_type": "code",
   "execution_count": null,
   "metadata": {},
   "outputs": [],
   "source": []
  }
 ],
 "metadata": {
  "kernelspec": {
   "display_name": "Python 3 (ipykernel)",
   "language": "python",
   "name": "python3"
  },
  "language_info": {
   "codemirror_mode": {
    "name": "ipython",
    "version": 3
   },
   "file_extension": ".py",
   "mimetype": "text/x-python",
   "name": "python",
   "nbconvert_exporter": "python",
   "pygments_lexer": "ipython3",
   "version": "3.10.12"
  }
 },
 "nbformat": 4,
 "nbformat_minor": 2
}
