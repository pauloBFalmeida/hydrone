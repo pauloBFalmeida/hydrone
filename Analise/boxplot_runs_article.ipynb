{
 "cells": [
  {
   "cell_type": "code",
   "execution_count": 1,
   "metadata": {},
   "outputs": [],
   "source": [
    "import numpy as np\n",
    "import matplotlib.pyplot as plt\n",
    "import seaborn as sns\n",
    "import pandas as pd"
   ]
  },
  {
   "cell_type": "code",
   "execution_count": 2,
   "metadata": {},
   "outputs": [],
   "source": [
    "# -------- range of the variables ----------\n",
    "V_S = 7.0                   # service speed [kn]\n",
    "range_D     = [0.5, 0.8]\n",
    "range_AEdAO = [0.3, 1.05]\n",
    "range_PdD   = [0.5, 1.4]\n",
    "range_Z     = [2, 7]\n",
    "\n",
    "# Define the lower and upper bounds for each variable\n",
    "lower_bounds = [range_D[0], range_AEdAO[0], range_PdD[0]]\n",
    "upper_bounds = [range_D[1], range_AEdAO[1], range_PdD[1]]"
   ]
  },
  {
   "cell_type": "markdown",
   "metadata": {},
   "source": [
    "Load files"
   ]
  },
  {
   "cell_type": "code",
   "execution_count": 3,
   "metadata": {},
   "outputs": [],
   "source": [
    "import csv\n",
    "from os import chdir\n",
    "\n",
    "def load_best_result(seed, solver_name):\n",
    "    filename = dir_name+'best_results_' + str(seed) + '_' + solver_name + '.csv'\n",
    "    history = []\n",
    "    with open(filename, 'r', newline='') as file:\n",
    "        reader = csv.reader(file, delimiter=' ', quotechar='|')\n",
    "        counter = 0\n",
    "        for row in reader:\n",
    "            if counter == 1:\n",
    "                params = row\n",
    "            if counter == 3:\n",
    "                history = row\n",
    "            counter += 1\n",
    "    # clean  \n",
    "    params  = params[0].split(',')\n",
    "    if len(history) > 0 and len(history[0]) > 2:\n",
    "        history = history[0].split(',')\n",
    "        history = [float(h) for h in history]\n",
    "    D       = float(params[0])\n",
    "    AEdAO   = float(params[1])\n",
    "    PdD     = float(params[2])\n",
    "    Z       = int(params[3]) if len(params[3]) == 1 else int(float(params[3]))\n",
    "    fitness = float(params[6])\n",
    "\n",
    "    result = [Z, (D, AEdAO, PdD), fitness, history]\n",
    "    return result\n",
    "\n",
    "def get_solver_results(solver_filename):\n",
    "    results = []\n",
    "    for seed in range(0, 10):\n",
    "        result = load_best_result(seed, solver_filename)\n",
    "        results.append(result)\n",
    "    return results\n",
    "\n",
    "\n",
    "def get_solver_results_df(solver_filename):\n",
    "    data = {'D': [], 'AEdAO': [], 'PdD': [], 'Z': [], 'Brake Power': [], 'Seed': []}\n",
    "    df = pd.DataFrame(data)\n",
    "    for seed in range(0, 10):\n",
    "        result = load_best_result(seed, solver_filename)\n",
    "        Z, (D, AEdAO, PdD), fitness, history = result\n",
    "        new_data = {'D': D, 'AEdAO': AEdAO, 'PdD': PdD, 'Z': int(Z), 'Brake Power': -fitness, 'Seed': seed}\n",
    "        df = pd.concat([df, pd.DataFrame(new_data, index=[0])], ignore_index=True)\n",
    "    return df"
   ]
  },
  {
   "cell_type": "markdown",
   "metadata": {},
   "source": [
    "load files"
   ]
  },
  {
   "cell_type": "code",
   "execution_count": 4,
   "metadata": {},
   "outputs": [],
   "source": [
    "dir_name = 'best_results/7_0/'\n",
    "\n",
    "results = get_solver_results_df('original')\n",
    "results['Algoritmo'] = 'DE Replicated'\n",
    "results['VS'] = 7.0\n",
    "df_results = results\n",
    "\n",
    "results = get_solver_results_df('openaies')\n",
    "results['Algoritmo'] = 'OpenAI-ES'\n",
    "results['VS'] = 7.0\n",
    "df_results = pd.concat([df_results, results], ignore_index=True)\n",
    "\n",
    "results = get_solver_results_df('cmaes')\n",
    "results['Algoritmo'] = \"CMA-ES\"\n",
    "results['VS'] = 7.0\n",
    "df_results = pd.concat([df_results, results], ignore_index=True)\n",
    "\n",
    "# --------------------------------\n",
    "dir_name = 'best_results/7_5/'\n",
    "\n",
    "results = get_solver_results_df('original')\n",
    "results['Algoritmo'] = 'DE Replicated'\n",
    "results['VS'] = 7.5\n",
    "df_results = pd.concat([df_results, results], ignore_index=True)\n",
    "\n",
    "results = get_solver_results_df('openaies')\n",
    "results['Algoritmo'] = 'OpenAI-ES'\n",
    "results['VS'] = 7.5\n",
    "df_results = pd.concat([df_results, results], ignore_index=True)\n",
    "\n",
    "results = get_solver_results_df('cmaes')\n",
    "results['Algoritmo'] = \"CMA-ES\"\n",
    "results['VS'] = 7.5\n",
    "df_results = pd.concat([df_results, results], ignore_index=True)\n",
    "\n",
    "# ---------\n",
    "dir_name = 'best_results/8_0/'\n",
    "\n",
    "\n",
    "results = get_solver_results_df('original_mod')\n",
    "results['Algoritmo'] = 'DE Proposed'\n",
    "results['VS'] = 8.0\n",
    "df_results = pd.concat([df_results, results], ignore_index=True)\n",
    "\n",
    "results = get_solver_results_df('openaies')\n",
    "results['Algoritmo'] = 'OpenAI-ES'\n",
    "results['VS'] = 8.0\n",
    "df_results = pd.concat([df_results, results], ignore_index=True)\n",
    "\n",
    "\n",
    "results = get_solver_results_df('cmaes')\n",
    "results['Algoritmo'] = \"CMA-ES\"\n",
    "results['VS'] = 8.0\n",
    "df_results = pd.concat([df_results, results], ignore_index=True)\n",
    "\n",
    "\n",
    "# ---------\n",
    "dir_name = 'best_results/8_5/'\n",
    "\n",
    "\n",
    "results = get_solver_results_df('original_mod')\n",
    "results['Algoritmo'] = 'DE Proposed'\n",
    "results['VS'] = 8.5\n",
    "df_results = pd.concat([df_results, results], ignore_index=True)\n",
    "\n",
    "results = get_solver_results_df('openaies')\n",
    "results['Algoritmo'] = 'OpenAI-ES'\n",
    "results['VS'] = 8.5\n",
    "df_results = pd.concat([df_results, results], ignore_index=True)\n",
    "\n",
    "\n",
    "results = get_solver_results_df('cmaes')\n",
    "results['Algoritmo'] = \"CMA-ES\"\n",
    "results['VS'] = 8.5\n",
    "df_results = pd.concat([df_results, results], ignore_index=True)"
   ]
  },
  {
   "cell_type": "code",
   "execution_count": 5,
   "metadata": {},
   "outputs": [],
   "source": [
    "\n",
    "dir_name = 'best_results/7_0/'\n",
    "\n",
    "results = get_solver_results_df('original_mod')\n",
    "results['Algoritmo'] = 'DE Proposed'\n",
    "results['VS'] = 7.0\n",
    "df_results = pd.concat([df_results, results], ignore_index=True)\n",
    "\n",
    "dir_name = 'best_results/7_5/'\n",
    "\n",
    "results = get_solver_results_df('original_mod')\n",
    "results['Algoritmo'] = 'DE Proposed'\n",
    "results['VS'] = 7.5\n",
    "df_results = pd.concat([df_results, results], ignore_index=True)"
   ]
  },
  {
   "cell_type": "code",
   "execution_count": 6,
   "metadata": {},
   "outputs": [
    {
     "data": {
      "text/plain": [
       "140"
      ]
     },
     "execution_count": 6,
     "metadata": {},
     "output_type": "execute_result"
    }
   ],
   "source": [
    "len(df_results)"
   ]
  },
  {
   "cell_type": "code",
   "execution_count": 7,
   "metadata": {},
   "outputs": [
    {
     "data": {
      "text/html": [
       "<div>\n",
       "<style scoped>\n",
       "    .dataframe tbody tr th:only-of-type {\n",
       "        vertical-align: middle;\n",
       "    }\n",
       "\n",
       "    .dataframe tbody tr th {\n",
       "        vertical-align: top;\n",
       "    }\n",
       "\n",
       "    .dataframe thead th {\n",
       "        text-align: right;\n",
       "    }\n",
       "</style>\n",
       "<table border=\"1\" class=\"dataframe\">\n",
       "  <thead>\n",
       "    <tr style=\"text-align: right;\">\n",
       "      <th></th>\n",
       "      <th>D</th>\n",
       "      <th>AEdAO</th>\n",
       "      <th>PdD</th>\n",
       "      <th>Z</th>\n",
       "      <th>Brake Power</th>\n",
       "      <th>Seed</th>\n",
       "      <th>Algoritmo</th>\n",
       "      <th>VS</th>\n",
       "    </tr>\n",
       "  </thead>\n",
       "  <tbody>\n",
       "    <tr>\n",
       "      <th>0</th>\n",
       "      <td>0.8</td>\n",
       "      <td>0.651723</td>\n",
       "      <td>0.690962</td>\n",
       "      <td>5.0</td>\n",
       "      <td>81.472631</td>\n",
       "      <td>0.0</td>\n",
       "      <td>DE Replicated</td>\n",
       "      <td>7.0</td>\n",
       "    </tr>\n",
       "    <tr>\n",
       "      <th>1</th>\n",
       "      <td>0.8</td>\n",
       "      <td>0.628734</td>\n",
       "      <td>0.662074</td>\n",
       "      <td>5.0</td>\n",
       "      <td>81.419681</td>\n",
       "      <td>1.0</td>\n",
       "      <td>DE Replicated</td>\n",
       "      <td>7.0</td>\n",
       "    </tr>\n",
       "    <tr>\n",
       "      <th>2</th>\n",
       "      <td>0.8</td>\n",
       "      <td>0.652604</td>\n",
       "      <td>0.665862</td>\n",
       "      <td>5.0</td>\n",
       "      <td>81.492075</td>\n",
       "      <td>2.0</td>\n",
       "      <td>DE Replicated</td>\n",
       "      <td>7.0</td>\n",
       "    </tr>\n",
       "    <tr>\n",
       "      <th>3</th>\n",
       "      <td>0.8</td>\n",
       "      <td>0.625044</td>\n",
       "      <td>0.657868</td>\n",
       "      <td>5.0</td>\n",
       "      <td>81.421505</td>\n",
       "      <td>3.0</td>\n",
       "      <td>DE Replicated</td>\n",
       "      <td>7.0</td>\n",
       "    </tr>\n",
       "    <tr>\n",
       "      <th>4</th>\n",
       "      <td>0.8</td>\n",
       "      <td>0.631930</td>\n",
       "      <td>0.669280</td>\n",
       "      <td>5.0</td>\n",
       "      <td>81.412759</td>\n",
       "      <td>4.0</td>\n",
       "      <td>DE Replicated</td>\n",
       "      <td>7.0</td>\n",
       "    </tr>\n",
       "    <tr>\n",
       "      <th>...</th>\n",
       "      <td>...</td>\n",
       "      <td>...</td>\n",
       "      <td>...</td>\n",
       "      <td>...</td>\n",
       "      <td>...</td>\n",
       "      <td>...</td>\n",
       "      <td>...</td>\n",
       "      <td>...</td>\n",
       "    </tr>\n",
       "    <tr>\n",
       "      <th>135</th>\n",
       "      <td>0.8</td>\n",
       "      <td>0.726686</td>\n",
       "      <td>0.691480</td>\n",
       "      <td>5.0</td>\n",
       "      <td>106.331618</td>\n",
       "      <td>5.0</td>\n",
       "      <td>DE Proposed</td>\n",
       "      <td>7.5</td>\n",
       "    </tr>\n",
       "    <tr>\n",
       "      <th>136</th>\n",
       "      <td>0.8</td>\n",
       "      <td>0.862611</td>\n",
       "      <td>0.732383</td>\n",
       "      <td>6.0</td>\n",
       "      <td>106.375576</td>\n",
       "      <td>6.0</td>\n",
       "      <td>DE Proposed</td>\n",
       "      <td>7.5</td>\n",
       "    </tr>\n",
       "    <tr>\n",
       "      <th>137</th>\n",
       "      <td>0.8</td>\n",
       "      <td>0.875320</td>\n",
       "      <td>0.717682</td>\n",
       "      <td>6.0</td>\n",
       "      <td>106.522553</td>\n",
       "      <td>7.0</td>\n",
       "      <td>DE Proposed</td>\n",
       "      <td>7.5</td>\n",
       "    </tr>\n",
       "    <tr>\n",
       "      <th>138</th>\n",
       "      <td>0.8</td>\n",
       "      <td>0.824743</td>\n",
       "      <td>0.657685</td>\n",
       "      <td>5.0</td>\n",
       "      <td>106.492711</td>\n",
       "      <td>8.0</td>\n",
       "      <td>DE Proposed</td>\n",
       "      <td>7.5</td>\n",
       "    </tr>\n",
       "    <tr>\n",
       "      <th>139</th>\n",
       "      <td>0.8</td>\n",
       "      <td>0.724792</td>\n",
       "      <td>0.669200</td>\n",
       "      <td>5.0</td>\n",
       "      <td>106.336937</td>\n",
       "      <td>9.0</td>\n",
       "      <td>DE Proposed</td>\n",
       "      <td>7.5</td>\n",
       "    </tr>\n",
       "  </tbody>\n",
       "</table>\n",
       "<p>140 rows × 8 columns</p>\n",
       "</div>"
      ],
      "text/plain": [
       "       D     AEdAO       PdD    Z  Brake Power  Seed      Algoritmo   VS\n",
       "0    0.8  0.651723  0.690962  5.0    81.472631   0.0  DE Replicated  7.0\n",
       "1    0.8  0.628734  0.662074  5.0    81.419681   1.0  DE Replicated  7.0\n",
       "2    0.8  0.652604  0.665862  5.0    81.492075   2.0  DE Replicated  7.0\n",
       "3    0.8  0.625044  0.657868  5.0    81.421505   3.0  DE Replicated  7.0\n",
       "4    0.8  0.631930  0.669280  5.0    81.412759   4.0  DE Replicated  7.0\n",
       "..   ...       ...       ...  ...          ...   ...            ...  ...\n",
       "135  0.8  0.726686  0.691480  5.0   106.331618   5.0    DE Proposed  7.5\n",
       "136  0.8  0.862611  0.732383  6.0   106.375576   6.0    DE Proposed  7.5\n",
       "137  0.8  0.875320  0.717682  6.0   106.522553   7.0    DE Proposed  7.5\n",
       "138  0.8  0.824743  0.657685  5.0   106.492711   8.0    DE Proposed  7.5\n",
       "139  0.8  0.724792  0.669200  5.0   106.336937   9.0    DE Proposed  7.5\n",
       "\n",
       "[140 rows x 8 columns]"
      ]
     },
     "execution_count": 7,
     "metadata": {},
     "output_type": "execute_result"
    }
   ],
   "source": [
    "df_results"
   ]
  },
  {
   "cell_type": "markdown",
   "metadata": {},
   "source": [
    "show info"
   ]
  },
  {
   "cell_type": "code",
   "execution_count": 8,
   "metadata": {},
   "outputs": [
    {
     "data": {
      "text/plain": [
       "VS   Algoritmo    \n",
       "7.0  CMA-ES            81.409024\n",
       "     DE Proposed       81.438459\n",
       "     DE Replicated     81.468037\n",
       "     OpenAI-ES         81.714656\n",
       "7.5  CMA-ES           106.218462\n",
       "     DE Proposed      106.444867\n",
       "     DE Replicated    106.457664\n",
       "     OpenAI-ES        106.564368\n",
       "8.0  CMA-ES           135.579539\n",
       "     DE Proposed      135.916389\n",
       "     OpenAI-ES        136.752065\n",
       "8.5  CMA-ES           169.883213\n",
       "     DE Proposed      170.465411\n",
       "     OpenAI-ES        171.173398\n",
       "Name: Brake Power, dtype: float64"
      ]
     },
     "execution_count": 8,
     "metadata": {},
     "output_type": "execute_result"
    }
   ],
   "source": [
    "df_results.groupby(['VS', 'Algoritmo'])['Brake Power'].mean()"
   ]
  },
  {
   "cell_type": "markdown",
   "metadata": {},
   "source": [
    "Compare"
   ]
  },
  {
   "cell_type": "code",
   "execution_count": 9,
   "metadata": {
    "scrolled": true
   },
   "outputs": [
    {
     "data": {
      "text/html": [
       "<div>\n",
       "<style scoped>\n",
       "    .dataframe tbody tr th:only-of-type {\n",
       "        vertical-align: middle;\n",
       "    }\n",
       "\n",
       "    .dataframe tbody tr th {\n",
       "        vertical-align: top;\n",
       "    }\n",
       "\n",
       "    .dataframe thead th {\n",
       "        text-align: right;\n",
       "    }\n",
       "</style>\n",
       "<table border=\"1\" class=\"dataframe\">\n",
       "  <thead>\n",
       "    <tr style=\"text-align: right;\">\n",
       "      <th></th>\n",
       "      <th>D</th>\n",
       "      <th>AEdAO</th>\n",
       "      <th>PdD</th>\n",
       "      <th>Z</th>\n",
       "      <th>Brake Power</th>\n",
       "      <th>Seed</th>\n",
       "      <th>Algoritmo</th>\n",
       "      <th>VS</th>\n",
       "    </tr>\n",
       "  </thead>\n",
       "  <tbody>\n",
       "    <tr>\n",
       "      <th>26</th>\n",
       "      <td>0.799998</td>\n",
       "      <td>0.632247</td>\n",
       "      <td>0.669962</td>\n",
       "      <td>5.0</td>\n",
       "      <td>81.404509</td>\n",
       "      <td>6.0</td>\n",
       "      <td>CMA-ES</td>\n",
       "      <td>7.0</td>\n",
       "    </tr>\n",
       "    <tr>\n",
       "      <th>50</th>\n",
       "      <td>0.799999</td>\n",
       "      <td>0.704166</td>\n",
       "      <td>0.663303</td>\n",
       "      <td>5.0</td>\n",
       "      <td>106.193568</td>\n",
       "      <td>0.0</td>\n",
       "      <td>CMA-ES</td>\n",
       "      <td>7.5</td>\n",
       "    </tr>\n",
       "    <tr>\n",
       "      <th>88</th>\n",
       "      <td>0.799997</td>\n",
       "      <td>0.809078</td>\n",
       "      <td>0.682077</td>\n",
       "      <td>6.0</td>\n",
       "      <td>135.572068</td>\n",
       "      <td>8.0</td>\n",
       "      <td>CMA-ES</td>\n",
       "      <td>8.0</td>\n",
       "    </tr>\n",
       "    <tr>\n",
       "      <th>117</th>\n",
       "      <td>0.799980</td>\n",
       "      <td>0.890721</td>\n",
       "      <td>0.669011</td>\n",
       "      <td>6.0</td>\n",
       "      <td>169.447948</td>\n",
       "      <td>7.0</td>\n",
       "      <td>CMA-ES</td>\n",
       "      <td>8.5</td>\n",
       "    </tr>\n",
       "  </tbody>\n",
       "</table>\n",
       "</div>"
      ],
      "text/plain": [
       "            D     AEdAO       PdD    Z  Brake Power  Seed Algoritmo   VS\n",
       "26   0.799998  0.632247  0.669962  5.0    81.404509   6.0    CMA-ES  7.0\n",
       "50   0.799999  0.704166  0.663303  5.0   106.193568   0.0    CMA-ES  7.5\n",
       "88   0.799997  0.809078  0.682077  6.0   135.572068   8.0    CMA-ES  8.0\n",
       "117  0.799980  0.890721  0.669011  6.0   169.447948   7.0    CMA-ES  8.5"
      ]
     },
     "execution_count": 9,
     "metadata": {},
     "output_type": "execute_result"
    }
   ],
   "source": [
    "# Find the index of the row with the minimal fitness value\n",
    "min_fitness_index = df_results.groupby(['VS'])['Brake Power'].idxmin()\n",
    "\n",
    "# Get the row with the minimal fitness value\n",
    "min_fitness_row = df_results.loc[min_fitness_index]\n",
    "\n",
    "min_fitness_row"
   ]
  },
  {
   "cell_type": "code",
   "execution_count": 10,
   "metadata": {},
   "outputs": [
    {
     "name": "stdout",
     "output_type": "stream",
     "text": [
      "VS   Algoritmo    \n",
      "7.0  CMA-ES            81.404509\n",
      "     DE Proposed       81.427119\n",
      "     DE Replicated     81.412759\n",
      "     OpenAI-ES         81.422375\n",
      "7.5  CMA-ES           106.193568\n",
      "     DE Proposed      106.247197\n",
      "     DE Replicated    106.215278\n",
      "     OpenAI-ES        106.203782\n",
      "8.0  CMA-ES           135.572068\n",
      "     DE Proposed      135.634799\n",
      "     OpenAI-ES        135.612534\n",
      "8.5  CMA-ES           169.447948\n",
      "     DE Proposed      169.570569\n",
      "     OpenAI-ES        169.573845\n",
      "Name: Brake Power, dtype: float64\n"
     ]
    }
   ],
   "source": [
    "menores_valores = df_results.groupby(['VS', 'Algoritmo'])['Brake Power'].min()\n",
    "# 135.634799\n",
    "print(menores_valores)"
   ]
  },
  {
   "cell_type": "code",
   "execution_count": 11,
   "metadata": {},
   "outputs": [],
   "source": [
    "df_vs_7_0 = df_results[df_results['VS'] == 7]\n",
    "df_vs_7_5 = df_results[df_results['VS'] == 7.5]\n",
    "df_vs_8_0 = df_results[df_results['VS'] == 8]\n",
    "df_vs_8_5 = df_results[df_results['VS'] == 8.5]"
   ]
  },
  {
   "cell_type": "markdown",
   "metadata": {},
   "source": [
    "## Tables"
   ]
  },
  {
   "cell_type": "code",
   "execution_count": 12,
   "metadata": {},
   "outputs": [],
   "source": [
    "def get_min_row(data):\n",
    "    indices_menores_valores_PB = data.groupby('Algoritmo')['Brake Power'].idxmin()\n",
    "    # Selecione as linhas originais usando os índices\n",
    "    linhas_menores_valores_PB = data.loc[indices_menores_valores_PB]\n",
    "    return linhas_menores_valores_PB\n",
    "\n",
    "def get_min(data):\n",
    "    menores_valores_PB = data.groupby('Algoritmo')['Brake Power'].min()\n",
    "    return menores_valores_PB\n"
   ]
  },
  {
   "cell_type": "code",
   "execution_count": 13,
   "metadata": {},
   "outputs": [],
   "source": [
    "vs = 8.5"
   ]
  },
  {
   "cell_type": "code",
   "execution_count": 14,
   "metadata": {},
   "outputs": [
    {
     "data": {
      "text/plain": [
       "Algoritmo\n",
       "CMA-ES         169.447948\n",
       "DE Proposed    169.570569\n",
       "OpenAI-ES      169.573845\n",
       "Name: Brake Power, dtype: float64"
      ]
     },
     "execution_count": 14,
     "metadata": {},
     "output_type": "execute_result"
    }
   ],
   "source": [
    "get_min(data = df_results[df_results['VS'] == vs])\n",
    "# algoritmos= ['DE Replicated', 'DE Proposed', 'CMA-ES', 'OpenAI-ES', 'Coordinate\\nDescent', 'Busca\\nAleatória'])           \n",
    "    "
   ]
  },
  {
   "cell_type": "code",
   "execution_count": 15,
   "metadata": {},
   "outputs": [
    {
     "name": "stdout",
     "output_type": "stream",
     "text": [
      "VS Algortihm D AE/AO P/D Z\n",
      "CMA-ES & 7.0 & 0.800 & 0.891 & 0.669 & 6 \\\\\n",
      "DE Proposed & 0.0 & 0.800 & 0.888 & 0.660 & 6 \\\\\n",
      "OpenAI-ES & 6.0 & 0.800 & 0.878 & 0.647 & 6 \\\\\n"
     ]
    }
   ],
   "source": [
    "print('VS Algortihm D AE/AO P/D Z')\n",
    "for r in get_min_row(data = df_vs_8_5).to_numpy():\n",
    "    d    = r[0]\n",
    "    aedao= r[1]\n",
    "    pdd  = r[2]\n",
    "    z    = r[3]\n",
    "    pb   = r[4]\n",
    "    algor= r[5]\n",
    "    vs   = r[6]\n",
    "    z = int(z)\n",
    "    print(f'{vs} & {algor} & {d:.3f} & {aedao:.3f} & {pdd:.3f} & {z}' + \" \\\\\\\\\" )"
   ]
  },
  {
   "cell_type": "code",
   "execution_count": 16,
   "metadata": {},
   "outputs": [
    {
     "data": {
      "text/html": [
       "<div>\n",
       "<style scoped>\n",
       "    .dataframe tbody tr th:only-of-type {\n",
       "        vertical-align: middle;\n",
       "    }\n",
       "\n",
       "    .dataframe tbody tr th {\n",
       "        vertical-align: top;\n",
       "    }\n",
       "\n",
       "    .dataframe thead th {\n",
       "        text-align: right;\n",
       "    }\n",
       "</style>\n",
       "<table border=\"1\" class=\"dataframe\">\n",
       "  <thead>\n",
       "    <tr style=\"text-align: right;\">\n",
       "      <th></th>\n",
       "      <th>D</th>\n",
       "      <th>AEdAO</th>\n",
       "      <th>PdD</th>\n",
       "      <th>Z</th>\n",
       "      <th>Brake Power</th>\n",
       "      <th>Seed</th>\n",
       "      <th>Algoritmo</th>\n",
       "      <th>VS</th>\n",
       "    </tr>\n",
       "  </thead>\n",
       "  <tbody>\n",
       "    <tr>\n",
       "      <th>90</th>\n",
       "      <td>0.799853</td>\n",
       "      <td>0.887975</td>\n",
       "      <td>0.659540</td>\n",
       "      <td>6.0</td>\n",
       "      <td>169.570569</td>\n",
       "      <td>0.0</td>\n",
       "      <td>DE Proposed</td>\n",
       "      <td>8.5</td>\n",
       "    </tr>\n",
       "    <tr>\n",
       "      <th>91</th>\n",
       "      <td>0.800000</td>\n",
       "      <td>0.961739</td>\n",
       "      <td>0.701309</td>\n",
       "      <td>6.0</td>\n",
       "      <td>170.710989</td>\n",
       "      <td>1.0</td>\n",
       "      <td>DE Proposed</td>\n",
       "      <td>8.5</td>\n",
       "    </tr>\n",
       "    <tr>\n",
       "      <th>92</th>\n",
       "      <td>0.799233</td>\n",
       "      <td>0.897747</td>\n",
       "      <td>0.654027</td>\n",
       "      <td>6.0</td>\n",
       "      <td>169.976797</td>\n",
       "      <td>2.0</td>\n",
       "      <td>DE Proposed</td>\n",
       "      <td>8.5</td>\n",
       "    </tr>\n",
       "    <tr>\n",
       "      <th>93</th>\n",
       "      <td>0.799982</td>\n",
       "      <td>0.920487</td>\n",
       "      <td>0.701578</td>\n",
       "      <td>6.0</td>\n",
       "      <td>169.759444</td>\n",
       "      <td>3.0</td>\n",
       "      <td>DE Proposed</td>\n",
       "      <td>8.5</td>\n",
       "    </tr>\n",
       "    <tr>\n",
       "      <th>94</th>\n",
       "      <td>0.799956</td>\n",
       "      <td>0.880929</td>\n",
       "      <td>0.665068</td>\n",
       "      <td>5.0</td>\n",
       "      <td>169.828450</td>\n",
       "      <td>4.0</td>\n",
       "      <td>DE Proposed</td>\n",
       "      <td>8.5</td>\n",
       "    </tr>\n",
       "    <tr>\n",
       "      <th>95</th>\n",
       "      <td>0.800000</td>\n",
       "      <td>1.002909</td>\n",
       "      <td>0.783794</td>\n",
       "      <td>6.0</td>\n",
       "      <td>172.964881</td>\n",
       "      <td>5.0</td>\n",
       "      <td>DE Proposed</td>\n",
       "      <td>8.5</td>\n",
       "    </tr>\n",
       "    <tr>\n",
       "      <th>96</th>\n",
       "      <td>0.779911</td>\n",
       "      <td>0.507541</td>\n",
       "      <td>0.595733</td>\n",
       "      <td>5.0</td>\n",
       "      <td>169.957434</td>\n",
       "      <td>6.0</td>\n",
       "      <td>DE Proposed</td>\n",
       "      <td>8.5</td>\n",
       "    </tr>\n",
       "    <tr>\n",
       "      <th>97</th>\n",
       "      <td>0.799794</td>\n",
       "      <td>0.911612</td>\n",
       "      <td>0.693674</td>\n",
       "      <td>5.0</td>\n",
       "      <td>170.211687</td>\n",
       "      <td>7.0</td>\n",
       "      <td>DE Proposed</td>\n",
       "      <td>8.5</td>\n",
       "    </tr>\n",
       "    <tr>\n",
       "      <th>98</th>\n",
       "      <td>0.800000</td>\n",
       "      <td>0.961739</td>\n",
       "      <td>0.701309</td>\n",
       "      <td>6.0</td>\n",
       "      <td>170.710989</td>\n",
       "      <td>8.0</td>\n",
       "      <td>DE Proposed</td>\n",
       "      <td>8.5</td>\n",
       "    </tr>\n",
       "    <tr>\n",
       "      <th>99</th>\n",
       "      <td>0.799213</td>\n",
       "      <td>0.936216</td>\n",
       "      <td>0.657506</td>\n",
       "      <td>6.0</td>\n",
       "      <td>170.962870</td>\n",
       "      <td>9.0</td>\n",
       "      <td>DE Proposed</td>\n",
       "      <td>8.5</td>\n",
       "    </tr>\n",
       "  </tbody>\n",
       "</table>\n",
       "</div>"
      ],
      "text/plain": [
       "           D     AEdAO       PdD    Z  Brake Power  Seed    Algoritmo   VS\n",
       "90  0.799853  0.887975  0.659540  6.0   169.570569   0.0  DE Proposed  8.5\n",
       "91  0.800000  0.961739  0.701309  6.0   170.710989   1.0  DE Proposed  8.5\n",
       "92  0.799233  0.897747  0.654027  6.0   169.976797   2.0  DE Proposed  8.5\n",
       "93  0.799982  0.920487  0.701578  6.0   169.759444   3.0  DE Proposed  8.5\n",
       "94  0.799956  0.880929  0.665068  5.0   169.828450   4.0  DE Proposed  8.5\n",
       "95  0.800000  1.002909  0.783794  6.0   172.964881   5.0  DE Proposed  8.5\n",
       "96  0.779911  0.507541  0.595733  5.0   169.957434   6.0  DE Proposed  8.5\n",
       "97  0.799794  0.911612  0.693674  5.0   170.211687   7.0  DE Proposed  8.5\n",
       "98  0.800000  0.961739  0.701309  6.0   170.710989   8.0  DE Proposed  8.5\n",
       "99  0.799213  0.936216  0.657506  6.0   170.962870   9.0  DE Proposed  8.5"
      ]
     },
     "execution_count": 16,
     "metadata": {},
     "output_type": "execute_result"
    }
   ],
   "source": [
    "df_results[(df_results['VS'] == 8.5) & (df_results['Algoritmo'] == 'DE Proposed')]"
   ]
  },
  {
   "cell_type": "markdown",
   "metadata": {},
   "source": [
    "## Grafics"
   ]
  },
  {
   "cell_type": "code",
   "execution_count": 17,
   "metadata": {},
   "outputs": [],
   "source": [
    "def create_img(data, order, save_img=True, name='img'):\n",
    "    fig, ax = plt.subplots()\n",
    "\n",
    "    sns.boxplot(y=\"Brake Power\",\n",
    "                x = \"Algoritmo\",\n",
    "                hue = 'Algoritmo',\n",
    "                data=data,\n",
    "                order=order\n",
    "                )\n",
    "\n",
    "    sns.set_style(\"whitegrid\")\n",
    "    sns.set(rc={'figure.figsize':(12,9)})\n",
    "    plt.xticks(fontsize=14)\n",
    "    plt.yticks(fontsize=15)\n",
    "    title_text = \"VS = \"\n",
    "    for v in data['VS'].unique():\n",
    "        title_text += str(v)\n",
    "    plt.title(title_text, fontsize=15)\n",
    "    plt.xlabel('Algoritmo',  fontsize=16)\n",
    "    plt.ylabel('Brake Power',fontsize=18)\n",
    "\n",
    "    if save_img:\n",
    "        plt.tight_layout()\n",
    "        plt.savefig(name+\".pdf\", dpi=300)"
   ]
  },
  {
   "cell_type": "markdown",
   "metadata": {},
   "source": [
    "## TCC - All Algoritmhs"
   ]
  },
  {
   "cell_type": "code",
   "execution_count": 18,
   "metadata": {},
   "outputs": [],
   "source": [
    "# create_img(data = df_vs_7_0,\n",
    "#            order=['DE Replicated', 'DE Proposed', 'CMA-ES', 'OpenAI-ES', 'Coordinate\\nDescent', 'Busca\\nAleatória'],\n",
    "#            name='vs_7_0_all' )"
   ]
  },
  {
   "cell_type": "code",
   "execution_count": 19,
   "metadata": {},
   "outputs": [],
   "source": [
    "# create_img(data = df_vs_7_5,\n",
    "#            order=['DE Replicated', 'DE Proposed', 'CMA-ES', 'OpenAI-ES', 'Coordinate\\nDescent', 'Busca\\nAleatória'],\n",
    "#            name='vs_7_5_all' )"
   ]
  },
  {
   "cell_type": "code",
   "execution_count": 20,
   "metadata": {
    "scrolled": false
   },
   "outputs": [],
   "source": [
    "# create_img(data = df_vs_8_0,\n",
    "#             order=['DE Proposed', 'CMA-ES', 'OpenAI-ES'],\n",
    "#             name='vs_8_0' )"
   ]
  },
  {
   "cell_type": "code",
   "execution_count": 21,
   "metadata": {},
   "outputs": [],
   "source": [
    "# create_img(data = df_vs_8_5,\n",
    "#             order=['DE Proposed', 'CMA-ES', 'OpenAI-ES'],\n",
    "#             name='8_5_all' )"
   ]
  },
  {
   "cell_type": "markdown",
   "metadata": {},
   "source": [
    "## TCC - Evolution Strategies"
   ]
  },
  {
   "cell_type": "code",
   "execution_count": 22,
   "metadata": {},
   "outputs": [],
   "source": [
    "# create_img(data = df_vs_7_0,\n",
    "#            order=['DE Replicated', 'DE Proposed', 'CMA-ES', 'CMA-ES\\nModificado', 'OpenAI-ES', 'OpenAI-ES\\nModificado'],\n",
    "#            name='vs_7_0_mod' )"
   ]
  },
  {
   "cell_type": "code",
   "execution_count": 23,
   "metadata": {},
   "outputs": [],
   "source": [
    "# create_img(data = df_vs_7_5,\n",
    "#            order=['DE Replicated', 'DE Proposed', 'CMA-ES', 'CMA-ES\\nModificado', 'OpenAI-ES', 'OpenAI-ES\\nModificado'],\n",
    "#            name='vs_7_5_mod' )"
   ]
  },
  {
   "cell_type": "code",
   "execution_count": 24,
   "metadata": {},
   "outputs": [],
   "source": [
    "# create_img(data = df_vs_8_0,\n",
    "#            order=['DE Proposed', 'CMA-ES', 'CMA-ES\\nModificado', 'OpenAI-ES', 'OpenAI-ES\\nModificado'],\n",
    "#            name='vs_8_0_mod' )"
   ]
  },
  {
   "cell_type": "code",
   "execution_count": 25,
   "metadata": {},
   "outputs": [],
   "source": [
    "# create_img(data = df_vs_8_0,\n",
    "#            order=['CMA-ES', 'CMA-ES\\nModificado', 'OpenAI-ES', 'OpenAI-ES\\nModificado'],\n",
    "#            name='vs_8_0_mod_2' )"
   ]
  },
  {
   "cell_type": "code",
   "execution_count": 26,
   "metadata": {},
   "outputs": [],
   "source": [
    "# create_img(data = df_vs_8_5,\n",
    "#            order=['DE Proposed', 'CMA-ES', 'CMA-ES\\nModificado', 'OpenAI-ES', 'OpenAI-ES\\nModificado'],\n",
    "#            name='vs_8_5_mod' )"
   ]
  },
  {
   "cell_type": "code",
   "execution_count": 27,
   "metadata": {},
   "outputs": [],
   "source": [
    "# create_img(data = df_vs_8_5,\n",
    "#            order=['CMA-ES', 'CMA-ES\\nModificado', 'OpenAI-ES', 'OpenAI-ES\\nModificado'],\n",
    "#            name='vs_8_5_mod_2' )"
   ]
  },
  {
   "cell_type": "markdown",
   "metadata": {},
   "source": [
    "## Article"
   ]
  },
  {
   "cell_type": "code",
   "execution_count": 36,
   "metadata": {
    "scrolled": false
   },
   "outputs": [
    {
     "data": {
      "image/png": "[encoded data removed]",
      "text/plain": [
       "<Figure size 864x648 with 1 Axes>"
      ]
     },
     "metadata": {},
     "output_type": "display_data"
    }
   ],
   "source": [
    "create_img(data = df_vs_7_0,\n",
    "           order=['DE Replicated', 'DE Proposed', 'CMA-ES', 'OpenAI-ES'],\n",
    "           name='boxplot_7_0' )"
   ]
  },
  {
   "cell_type": "code",
   "execution_count": 29,
   "metadata": {},
   "outputs": [
    {
     "data": {
      "image/png": "[encoded data removed]",
      "text/plain": [
       "<Figure size 864x648 with 1 Axes>"
      ]
     },
     "metadata": {},
     "output_type": "display_data"
    }
   ],
   "source": [
    "create_img(data = df_vs_7_5,\n",
    "           order=['DE Replicated', 'DE Proposed', 'CMA-ES', 'OpenAI-ES'],\n",
    "           name='boxplot_7_5' )"
   ]
  },
  {
   "cell_type": "code",
   "execution_count": 30,
   "metadata": {},
   "outputs": [
    {
     "data": {
      "image/png": "[encoded data removed]",
      "text/plain": [
       "<Figure size 864x648 with 1 Axes>"
      ]
     },
     "metadata": {},
     "output_type": "display_data"
    }
   ],
   "source": [
    "create_img(data = df_vs_8_0,\n",
    "           order=['DE Proposed', 'CMA-ES', 'OpenAI-ES'],\n",
    "           name='boxplot_8_0' )"
   ]
  },
  {
   "cell_type": "code",
   "execution_count": 31,
   "metadata": {},
   "outputs": [
    {
     "data": {
      "image/png": "[encoded data removed]",
      "text/plain": [
       "<Figure size 864x648 with 1 Axes>"
      ]
     },
     "metadata": {},
     "output_type": "display_data"
    }
   ],
   "source": [
    "create_img(data = df_vs_8_5,\n",
    "           order=['DE Proposed', 'CMA-ES', 'OpenAI-ES'],\n",
    "           name='boxplot_8_5' )"
   ]
  },
  {
   "cell_type": "markdown",
   "metadata": {},
   "source": [
    "## Double graphs"
   ]
  },
  {
   "cell_type": "code",
   "execution_count": 32,
   "metadata": {},
   "outputs": [],
   "source": [
    "rename_dict = {'CMA-ES': 'CMA-ES',\n",
    "               'OpenAI-ES': 'OpenAI-ES',\n",
    "               'DE Replicated': 'DE\\nReplicated',\n",
    "               'DE Proposed': 'DE\\nProposed'\n",
    "              }\n",
    "\n",
    "custom_order = {\n",
    "    'DE\\nReplicated': 1,\n",
    "    'DE\\nProposed': 2,\n",
    "    'CMA-ES': 3,\n",
    "    'OpenAI-ES': 4\n",
    "}"
   ]
  },
  {
   "cell_type": "code",
   "execution_count": 87,
   "metadata": {},
   "outputs": [],
   "source": [
    "font_size = 14\n",
    "\n",
    "def multiple_boxplot(vs_values, save=True, only_put_1_legend=False):\n",
    "    # Create subplots with a shared x-axis\n",
    "    fig, ax = plt.subplots(1, len(vs_values), sharey='col', figsize=(11, 7))\n",
    "\n",
    "    for i, vs in enumerate(vs_values):\n",
    "        df_temp = df_results[df_results['VS'] == vs]\n",
    "        # rename \n",
    "        df_temp.loc[:,'Algoritmo'] = df_temp['Algoritmo'].map(rename_dict)\n",
    "        # Get unique values and sort them based on the custom order\n",
    "        unique_values = sorted(df_temp['Algoritmo'].unique(), key=lambda x: custom_order[x])\n",
    "\n",
    "        # create the box plot\n",
    "        sns.boxplot(y=\"Brake Power\", \n",
    "                    x = \"Algoritmo\",\n",
    "                    hue = 'Algoritmo',\n",
    "                    order=unique_values,\n",
    "#                         palette=\"hls\", # Colors\n",
    "                    data=df_temp, ax=ax[i])  \n",
    "\n",
    "        # Set the title for the subplot\n",
    "        ax[i].set_title(f'VS = {vs}',   fontsize=font_size)\n",
    "        ax[i].tick_params(axis='both', labelsize=font_size) \n",
    "        # Set labels for x and y axes\n",
    "        ax[i].set_xlabel('Algorithm',   fontsize=font_size)\n",
    "        ax[i].set_ylabel('Brake Power', fontsize=font_size)\n",
    "\n",
    "        # ylim\n",
    "        minmax = df_temp['Brake Power'].agg(['min', 'max']).to_list()\n",
    "        ax[i].set_ylim(minmax[0]*0.999, minmax[1]*1.001) \n",
    "        \n",
    "        if only_put_1_legend:\n",
    "            # only put 1 legend\n",
    "            if i == 1:\n",
    "        #         ax[i].legend(loc='upper right')\n",
    "                legend = ax[i].legend(loc='upper left', bbox_to_anchor=(1, 1))\n",
    "            else:\n",
    "                ax[i].legend([],[], frameon=False)\n",
    "\n",
    "    # Adjust spacing between subplots\n",
    "    plt.tight_layout()\n",
    "    \n",
    "    # save\n",
    "    if save:\n",
    "        name_f  = 'boxplot'\n",
    "        # speed\n",
    "        name_f += '_' + \"and\".join([str(v) for v in vs_values])\n",
    "        name_f  = name_f.replace('.','_')\n",
    "        # file type\n",
    "        name_f += '.pdf'\n",
    "        plt.savefig(name_f, bbox_inches='tight')\n",
    "        print('saved', name_f)\n",
    "\n",
    "    # Show the plot\n",
    "    plt.show()"
   ]
  },
  {
   "cell_type": "code",
   "execution_count": 88,
   "metadata": {},
   "outputs": [
    {
     "name": "stdout",
     "output_type": "stream",
     "text": [
      "saved boxplot_7_0and7_5.pdf\n"
     ]
    },
    {
     "data": {
      "image/png": "[encoded data removed]",
      "text/plain": [
       "<Figure size 792x504 with 2 Axes>"
      ]
     },
     "metadata": {},
     "output_type": "display_data"
    }
   ],
   "source": [
    "multiple_boxplot([7.0, 7.5])"
   ]
  },
  {
   "cell_type": "code",
   "execution_count": 89,
   "metadata": {},
   "outputs": [
    {
     "name": "stdout",
     "output_type": "stream",
     "text": [
      "saved boxplot_8_0and8_5.pdf\n"
     ]
    },
    {
     "data": {
      "image/png": "[encoded data removed]",
      "text/plain": [
       "<Figure size 792x504 with 2 Axes>"
      ]
     },
     "metadata": {},
     "output_type": "display_data"
    }
   ],
   "source": [
    "multiple_boxplot([8.0, 8.5])"
   ]
  },
  {
   "cell_type": "code",
   "execution_count": null,
   "metadata": {},
   "outputs": [],
   "source": []
  }
 ],
 "metadata": {
  "kernelspec": {
   "display_name": "Python 3 (ipykernel)",
   "language": "python",
   "name": "python3"
  },
  "language_info": {
   "codemirror_mode": {
    "name": "ipython",
    "version": 3
   },
   "file_extension": ".py",
   "mimetype": "text/x-python",
   "name": "python",
   "nbconvert_exporter": "python",
   "pygments_lexer": "ipython3",
   "version": "3.10.12"
  }
 },
 "nbformat": 4,
 "nbformat_minor": 2
}
