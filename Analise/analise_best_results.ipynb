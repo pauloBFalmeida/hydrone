{
 "cells": [
  {
   "cell_type": "code",
   "execution_count": null,
   "metadata": {},
   "outputs": [],
   "source": [
    "import numpy as np\n",
    "import matplotlib.pyplot as plt\n",
    "import seaborn as sns\n",
    "import pandas as pd"
   ]
  },
  {
   "cell_type": "code",
   "execution_count": null,
   "metadata": {},
   "outputs": [],
   "source": [
    "# -------- range of the variables ----------\n",
    "V_S = 7.0                   # service speed [kn]\n",
    "range_D     = [0.5, 0.8]\n",
    "range_AEdAO = [0.3, 1.05]\n",
    "range_PdD   = [0.5, 1.4]\n",
    "range_Z     = [2, 7]\n",
    "\n",
    "# Define the lower and upper bounds for each variable\n",
    "lower_bounds = [range_D[0], range_AEdAO[0], range_PdD[0]]\n",
    "upper_bounds = [range_D[1], range_AEdAO[1], range_PdD[1]]"
   ]
  },
  {
   "cell_type": "markdown",
   "metadata": {},
   "source": [
    "Load files"
   ]
  },
  {
   "cell_type": "code",
   "execution_count": null,
   "metadata": {},
   "outputs": [],
   "source": [
    "import csv\n",
    "from os import chdir\n",
    "\n",
    "def load_best_result(seed, solver_name):\n",
    "    filename = dir_name+'best_results_' + str(seed) + '_' + solver_name + '.csv'\n",
    "    history = []\n",
    "    with open(filename, 'r', newline='') as file:\n",
    "        reader = csv.reader(file, delimiter=' ', quotechar='|')\n",
    "        counter = 0\n",
    "        for row in reader:\n",
    "            if counter == 1:\n",
    "                params = row\n",
    "            if counter == 3:\n",
    "                history = row\n",
    "            counter += 1\n",
    "    # clean  \n",
    "    params  = params[0].split(',')\n",
    "    if len(history) > 0 and len(history[0]) > 2:\n",
    "        history = history[0].split(',')\n",
    "        history = [float(h) for h in history]\n",
    "    D       = float(params[0])\n",
    "    AEdAO   = float(params[1])\n",
    "    PdD     = float(params[2])\n",
    "    Z       = int(params[3]) if len(params[3]) == 1 else int(float(params[3]))\n",
    "    fitness = float(params[6])\n",
    "\n",
    "    result = [Z, (D, AEdAO, PdD), fitness, history]\n",
    "    return result\n",
    "\n",
    "def get_solver_results(solver_filename):\n",
    "    results = []\n",
    "    for seed in range(0, 10):\n",
    "        result = load_best_result(seed, solver_filename)\n",
    "        results.append(result)\n",
    "    return results\n",
    "\n",
    "\n",
    "def get_solver_results_df(solver_filename):\n",
    "    data = {'D': [], 'AEdAO': [], 'PdD': [], 'Z': [], 'Brake Power': []}\n",
    "    df = pd.DataFrame(data)\n",
    "    for seed in range(0, 10):\n",
    "        result = load_best_result(seed, solver_filename)\n",
    "        Z, (D, AEdAO, PdD), fitness, history = result\n",
    "        new_data = {'D': D, 'AEdAO': AEdAO, 'PdD': PdD, 'Z': int(Z), 'Brake Power': -fitness}\n",
    "        df = pd.concat([df, pd.DataFrame(new_data, index=[0])], ignore_index=True)\n",
    "    return df\n",
    "\n",
    "# for the run2\n",
    "def get_solver_results_df_individual(seed, solver_filename):\n",
    "    data = {'D': [], 'AEdAO': [], 'PdD': [], 'Z': [], 'Brake Power': []}\n",
    "    df = pd.DataFrame(data)\n",
    "    result = load_best_result(seed, solver_filename)\n",
    "    Z, (D, AEdAO, PdD), fitness, history = result\n",
    "    new_data = {'D': D, 'AEdAO': AEdAO, 'PdD': PdD, 'Z': int(Z), 'Brake Power': -fitness}\n",
    "    df = pd.concat([df, pd.DataFrame(new_data, index=[0])], ignore_index=True)\n",
    "    return df"
   ]
  },
  {
   "cell_type": "markdown",
   "metadata": {},
   "source": [
    "aaaaa"
   ]
  },
  {
   "cell_type": "code",
   "execution_count": null,
   "metadata": {},
   "outputs": [],
   "source": [
    "dir_name = 'best_results/7_0/'\n",
    "\n",
    "results = get_solver_results_df('original')\n",
    "results['Algoritmo'] = 'DE Base'\n",
    "results['VS'] = 7.0\n",
    "df_results = results\n",
    "\n",
    "results = get_solver_results_df('openaies')\n",
    "results['Algoritmo'] = 'OpenAI-ES'\n",
    "results['VS'] = 7.0\n",
    "df_results = pd.concat([df_results, results], ignore_index=True)\n",
    "\n",
    "results = get_solver_results_df('openaies')\n",
    "results['Algoritmo'] = 'OpenAI-ES\\nModificado'\n",
    "results['VS'] = 7.0\n",
    "df_results = pd.concat([df_results, results], ignore_index=True)\n",
    "\n",
    "results = get_solver_results_df('cmaes')\n",
    "results['Algoritmo'] = \"CMA-ES\"\n",
    "results['VS'] = 7.0\n",
    "df_results = pd.concat([df_results, results], ignore_index=True)\n",
    "\n",
    "results = get_solver_results_df('cmaes')\n",
    "results['Algoritmo'] = \"CMA-ES\\nModificado\"\n",
    "results['VS'] = 7.0\n",
    "df_results = pd.concat([df_results, results], ignore_index=True)\n",
    "\n",
    "# --------------------------------\n",
    "dir_name = 'best_results/7_5/'\n",
    "\n",
    "results = get_solver_results_df('original')\n",
    "results['Algoritmo'] = 'DE Base'\n",
    "results['VS'] = 7.5\n",
    "df_results = pd.concat([df_results, results], ignore_index=True)\n",
    "\n",
    "results = get_solver_results_df('openaies')\n",
    "results['Algoritmo'] = 'OpenAI-ES'\n",
    "results['VS'] = 7.5\n",
    "df_results = pd.concat([df_results, results], ignore_index=True)\n",
    "\n",
    "results = get_solver_results_df('openaies')\n",
    "results['Algoritmo'] = 'OpenAI-ES\\nModificado'\n",
    "results['VS'] = 7.5\n",
    "df_results = pd.concat([df_results, results], ignore_index=True)\n",
    "\n",
    "results = get_solver_results_df('cmaes')\n",
    "results['Algoritmo'] = \"CMA-ES\"\n",
    "results['VS'] = 7.5\n",
    "df_results = pd.concat([df_results, results], ignore_index=True)\n",
    "\n",
    "results = get_solver_results_df('cmaes')\n",
    "results['Algoritmo'] = \"CMA-ES\\nModificado\"\n",
    "results['VS'] = 7.5\n",
    "df_results = pd.concat([df_results, results], ignore_index=True)\n",
    "\n",
    "\n",
    "# ---------\n",
    "dir_name = 'best_results/8_0/'\n",
    "\n",
    "\n",
    "results = get_solver_results_df('original_mod')\n",
    "results['Algoritmo'] = 'DE Modificado'\n",
    "results['VS'] = 8.0\n",
    "df_results = pd.concat([df_results, results], ignore_index=True)\n",
    "\n",
    "results = get_solver_results_df('openaies')\n",
    "results['Algoritmo'] = 'OpenAI-ES'\n",
    "results['VS'] = 8.0\n",
    "df_results = pd.concat([df_results, results], ignore_index=True)\n",
    "\n",
    "results = get_solver_results_df('openaies')\n",
    "results['Algoritmo'] = 'OpenAI-ES\\nModificado'\n",
    "results['VS'] = 8.0\n",
    "df_results = pd.concat([df_results, results], ignore_index=True)\n",
    "\n",
    "results = get_solver_results_df('cmaes')\n",
    "results['Algoritmo'] = \"CMA-ES\"\n",
    "results['VS'] = 8.0\n",
    "df_results = pd.concat([df_results, results], ignore_index=True)\n",
    "\n",
    "results = get_solver_results_df('cmaes')\n",
    "results['Algoritmo'] = \"CMA-ES\\nModificado\"\n",
    "results['VS'] = 8.0\n",
    "df_results = pd.concat([df_results, results], ignore_index=True)\n",
    "\n",
    "# ---------\n",
    "dir_name = 'best_results/8_5/'\n",
    "\n",
    "\n",
    "results = get_solver_results_df('original_mod')\n",
    "results['Algoritmo'] = 'DE Modificado'\n",
    "results['VS'] = 8.5\n",
    "df_results = pd.concat([df_results, results], ignore_index=True)\n",
    "\n",
    "results = get_solver_results_df('openaies')\n",
    "results['Algoritmo'] = 'OpenAI-ES'\n",
    "results['VS'] = 8.5\n",
    "df_results = pd.concat([df_results, results], ignore_index=True)\n",
    "\n",
    "results = get_solver_results_df('openaies')\n",
    "results['Algoritmo'] = 'OpenAI-ES\\nModificado'\n",
    "results['VS'] = 8.5\n",
    "df_results = pd.concat([df_results, results], ignore_index=True)\n",
    "\n",
    "results = get_solver_results_df('cmaes')\n",
    "results['Algoritmo'] = \"CMA-ES\"\n",
    "results['VS'] = 8.5\n",
    "df_results = pd.concat([df_results, results], ignore_index=True)\n",
    "\n",
    "results = get_solver_results_df('cmaes')\n",
    "results['Algoritmo'] = \"CMA-ES\\nModificado\"\n",
    "results['VS'] = 8.5\n",
    "df_results = pd.concat([df_results, results], ignore_index=True)"
   ]
  },
  {
   "cell_type": "code",
   "execution_count": null,
   "metadata": {},
   "outputs": [],
   "source": [
    "\n",
    "dir_name = 'best_results/7_0/'\n",
    "\n",
    "results = get_solver_results_df('original_mod')\n",
    "results['Algoritmo'] = 'DE Modificado'\n",
    "results['VS'] = 7.0\n",
    "df_results = pd.concat([df_results, results], ignore_index=True)\n",
    "\n",
    "dir_name = 'best_results/7_5/'\n",
    "\n",
    "results = get_solver_results_df('original_mod')\n",
    "results['Algoritmo'] = 'DE Modificado'\n",
    "results['VS'] = 7.5\n",
    "df_results = pd.concat([df_results, results], ignore_index=True)"
   ]
  },
  {
   "cell_type": "markdown",
   "metadata": {},
   "source": [
    "load run2"
   ]
  },
  {
   "cell_type": "code",
   "execution_count": null,
   "metadata": {
    "scrolled": true
   },
   "outputs": [],
   "source": [
    "df_results['Pop'] = 30\n",
    "\n",
    "# 2\n",
    "from os import listdir\n",
    "\n",
    "dir_path = '../Main/run2'\n",
    "\n",
    "for vs_dir in sorted(listdir(dir_path)):\n",
    "    file_path = dir_path + '/' + vs_dir\n",
    "    # read config\n",
    "    csv_filename = file_path + '/configs.csv'\n",
    "    with open(csv_filename, 'r', newline='\\n') as csvfile:\n",
    "        csv_reader = csv.reader(csvfile)\n",
    "        V_S    = float(next(csv_reader)[1])\n",
    "        NPOP   = int(next(csv_reader)[1])\n",
    "        MAX_IT = int(next(csv_reader)[1])\n",
    "        SEED   = int(next(csv_reader)[1])\n",
    "    dir_name = file_path + '/'\n",
    "    for file_name in sorted(listdir(file_path)):\n",
    "        if 'best_results' in file_name:\n",
    "            if 'cmaes' in file_name:\n",
    "                results = get_solver_results_df_individual(SEED, 'cmaes')\n",
    "                results['Algoritmo'] = 'CMA-ES' + str(NPOP)\n",
    "                results['VS'] = V_S\n",
    "                results['Pop'] = NPOP\n",
    "                df_results = pd.concat([df_results, results], ignore_index=True)\n",
    "            elif 'openaies' in file_name:\n",
    "                results = get_solver_results_df_individual(SEED, 'openaies')\n",
    "                results['Algoritmo'] = 'OpenAI-ES' + str(NPOP)\n",
    "                results['VS'] = V_S\n",
    "                results['Pop'] = NPOP\n",
    "                df_results = pd.concat([df_results, results], ignore_index=True)\n",
    "    print(file_path)\n"
   ]
  },
  {
   "cell_type": "code",
   "execution_count": null,
   "metadata": {},
   "outputs": [],
   "source": [
    "df_results"
   ]
  },
  {
   "cell_type": "markdown",
   "metadata": {},
   "source": [
    "show stats"
   ]
  },
  {
   "cell_type": "code",
   "execution_count": null,
   "metadata": {},
   "outputs": [],
   "source": [
    "df_results.groupby(['VS', 'Algoritmo'])['Brake Power'].mean()"
   ]
  },
  {
   "cell_type": "code",
   "execution_count": null,
   "metadata": {},
   "outputs": [],
   "source": [
    "df_results.groupby(['VS', 'Algoritmo'])['Brake Power'].mean()"
   ]
  },
  {
   "cell_type": "markdown",
   "metadata": {},
   "source": [
    "Compare"
   ]
  },
  {
   "cell_type": "code",
   "execution_count": null,
   "metadata": {
    "scrolled": true
   },
   "outputs": [],
   "source": [
    "# Find the index of the row with the minimal fitness value\n",
    "min_fitness_index = df_results.groupby(['VS'])['Brake Power'].idxmin()\n",
    "\n",
    "# Get the row with the minimal fitness value\n",
    "min_fitness_row = df_results.loc[min_fitness_index]\n",
    "\n",
    "min_fitness_row"
   ]
  },
  {
   "cell_type": "code",
   "execution_count": null,
   "metadata": {},
   "outputs": [],
   "source": [
    "menores_valores = df_results.groupby(['VS', 'Algoritmo'])['Brake Power'].min()\n",
    "\n",
    "print(menores_valores)"
   ]
  },
  {
   "cell_type": "markdown",
   "metadata": {},
   "source": [
    "## Grafics"
   ]
  },
  {
   "cell_type": "code",
   "execution_count": null,
   "metadata": {},
   "outputs": [],
   "source": [
    "df_vs_7_0 = df_results[df_results['VS'] == 7]\n",
    "df_vs_7_5 = df_results[df_results['VS'] == 7.5]\n",
    "df_vs_8_0 = df_results[df_results['VS'] == 8]\n",
    "df_vs_8_5 = df_results[df_results['VS'] == 8.5]"
   ]
  },
  {
   "cell_type": "code",
   "execution_count": null,
   "metadata": {},
   "outputs": [],
   "source": [
    "tamanhoFonte = 17"
   ]
  },
  {
   "cell_type": "code",
   "execution_count": null,
   "metadata": {
    "scrolled": true
   },
   "outputs": [],
   "source": [
    "palette_ = sns.color_palette(\"Paired\").as_hex()\n"
   ]
  },
  {
   "cell_type": "code",
   "execution_count": null,
   "metadata": {},
   "outputs": [],
   "source": [
    "def create_img2(data, order, nomes, save_img=True, name='img'):\n",
    "    fig, ax = plt.subplots()\n",
    "\n",
    "    # Dicionário de cores associadas aos algoritmos\n",
    "    cores_algoritmo = {'DE Base':               palette_[1+2], \n",
    "                       'DE Modificado':         palette_[0+2],\n",
    "                       'CMA-ES':                palette_[3-2],\n",
    "                       'CMA-ES5':               palette_[3-2],\n",
    "                       'CMA-ES\\nModificado':    palette_[2-2], \n",
    "                       'CMA-ES10':              palette_[2-2],\n",
    "                       'OpenAI-ES':             palette_[5+2], \n",
    "                       'OpenAI-ES5':            palette_[5+2],\n",
    "                       'OpenAI-ES\\nModificado': palette_[4+2],\n",
    "                       'OpenAI-ES10':           palette_[4+2]\n",
    "                       }\n",
    "\n",
    "    sns.boxplot(y=\"Brake Power\",\n",
    "                x = \"Algoritmo\",\n",
    "                hue = 'Algoritmo',\n",
    "                data=data,\n",
    "                order=order,\n",
    "                palette=cores_algoritmo\n",
    "                )\n",
    "\n",
    "    sns.set_style(\"whitegrid\")\n",
    "    sns.set(rc={'figure.figsize':(12,9)})\n",
    "    plt.xticks(ticks=order, labels=nomes, fontsize=tamanhoFonte)\n",
    "    plt.yticks(fontsize=tamanhoFonte)\n",
    "    title_text = \"VS = \"\n",
    "    for v in data['VS'].unique():\n",
    "        title_text += str(v)\n",
    "    plt.title(title_text, fontsize=tamanhoFonte+1)\n",
    "    plt.xlabel('Algoritmos',  fontsize=tamanhoFonte+1)\n",
    "    plt.ylabel('Brake Power',fontsize=tamanhoFonte+2)\n",
    "\n",
    "    if save_img:\n",
    "        plt.tight_layout()\n",
    "        plt.savefig(name+\".pdf\", dpi=300)"
   ]
  },
  {
   "cell_type": "markdown",
   "metadata": {},
   "source": [
    "aaaaa"
   ]
  },
  {
   "cell_type": "markdown",
   "metadata": {},
   "source": [
    "7.0"
   ]
  },
  {
   "cell_type": "code",
   "execution_count": null,
   "metadata": {},
   "outputs": [],
   "source": [
    "# create_img(data = df_vs_7_0,\n",
    "#            order=['DE Base', 'DE Modificado', 'CMA-ES', 'CMA-ES\\nModificado', 'OpenAI-ES', 'OpenAI-ES\\nModificado'],\n",
    "#            name='vs_7_0_mod' )"
   ]
  },
  {
   "cell_type": "code",
   "execution_count": null,
   "metadata": {},
   "outputs": [],
   "source": [
    "# #2\n",
    "# create_img(data = df_vs_7_0,\n",
    "#            order=['DE Base', 'DE Modificado', 'CMA-ES5', 'CMA-ES10', 'OpenAI-ES5', 'OpenAI-ES10'],\n",
    "#            name='vs_7_0_mod' )"
   ]
  },
  {
   "cell_type": "code",
   "execution_count": null,
   "metadata": {},
   "outputs": [],
   "source": [
    "# depois 2\n",
    "create_img2(data = df_vs_7_0,\n",
    "           order=['DE Base', 'DE Modificado', 'CMA-ES', 'CMA-ES10', 'OpenAI-ES', 'OpenAI-ES10'],\n",
    "           nomes=['DE Base', 'DE Modificado', 'CMA-ES', 'CMA-ES\\nModificado', 'OpenAI-ES', 'OpenAI-ES\\nModificado'],\n",
    "           name='vs_7_0_mod' )"
   ]
  },
  {
   "cell_type": "markdown",
   "metadata": {},
   "source": [
    "7.5"
   ]
  },
  {
   "cell_type": "code",
   "execution_count": null,
   "metadata": {},
   "outputs": [],
   "source": [
    "# create_img(data = df_vs_7_5,\n",
    "#            order=['DE Base', 'DE Modificado', 'CMA-ES', 'CMA-ES\\nModificado', 'OpenAI-ES', 'OpenAI-ES\\nModificado'],\n",
    "#            name='vs_7_5_mod' )"
   ]
  },
  {
   "cell_type": "code",
   "execution_count": null,
   "metadata": {},
   "outputs": [],
   "source": [
    "# #2\n",
    "# create_img(data = df_vs_7_5,\n",
    "#            order=['DE Base', 'DE Modificado', 'CMA-ES5', 'CMA-ES10', 'OpenAI-ES5', 'OpenAI-ES10'],\n",
    "#            name='vs_7_5_mod' )"
   ]
  },
  {
   "cell_type": "code",
   "execution_count": null,
   "metadata": {},
   "outputs": [],
   "source": [
    "# depois 2\n",
    "create_img2(data = df_vs_7_5,\n",
    "           order=['DE Base', 'DE Modificado', 'CMA-ES', 'CMA-ES\\nModificado', 'OpenAI-ES', 'OpenAI-ES10'],\n",
    "           nomes=['DE Base', 'DE Modificado', 'CMA-ES', 'CMA-ES\\nModificado', 'OpenAI-ES', 'OpenAI-ES\\nModificado'],\n",
    "           name='vs_7_5_mod' )"
   ]
  },
  {
   "cell_type": "markdown",
   "metadata": {},
   "source": [
    "8.0"
   ]
  },
  {
   "cell_type": "code",
   "execution_count": null,
   "metadata": {
    "scrolled": false
   },
   "outputs": [],
   "source": [
    "# create_img(data = df_vs_8_0,\n",
    "#            order=['DE Modificado', 'CMA-ES', 'CMA-ES\\nModificado', 'OpenAI-ES', 'OpenAI-ES\\nModificado'],\n",
    "#            name='vs_8_0_mod' )"
   ]
  },
  {
   "cell_type": "code",
   "execution_count": null,
   "metadata": {},
   "outputs": [],
   "source": [
    "# #2\n",
    "# create_img(data = df_vs_8_0,\n",
    "#            order=['DE Modificado', 'CMA-ES5', 'CMA-ES10', 'OpenAI-ES5', 'OpenAI-ES10'],\n",
    "#            name='vs_8_0_mod' )"
   ]
  },
  {
   "cell_type": "code",
   "execution_count": null,
   "metadata": {},
   "outputs": [],
   "source": [
    "# depois 2\n",
    "create_img2(data = df_vs_8_0,\n",
    "           order=['DE Modificado', 'CMA-ES5', 'CMA-ES10', 'OpenAI-ES', 'OpenAI-ES10'],\n",
    "           nomes=['DE Modificado', 'CMA-ES', 'CMA-ES\\nModificado', 'OpenAI-ES', 'OpenAI-ES\\nModificado'],\n",
    "           name='vs_8_0_mod' )"
   ]
  },
  {
   "cell_type": "code",
   "execution_count": null,
   "metadata": {},
   "outputs": [],
   "source": [
    "# create_img(data = df_vs_8_0,\n",
    "#            order=['CMA-ES', 'CMA-ES\\nModificado', 'OpenAI-ES', 'OpenAI-ES\\nModificado'],\n",
    "#            name='vs_8_0_mod_2' )"
   ]
  },
  {
   "cell_type": "code",
   "execution_count": null,
   "metadata": {},
   "outputs": [],
   "source": [
    "# #2\n",
    "# create_img(data = df_vs_8_0,\n",
    "#            order=['CMA-ES5', 'CMA-ES10', 'OpenAI-ES5', 'OpenAI-ES10'],\n",
    "#            name='vs_8_0_mod_2' )"
   ]
  },
  {
   "cell_type": "code",
   "execution_count": null,
   "metadata": {},
   "outputs": [],
   "source": [
    "# depois 2\n",
    "create_img2(data = df_vs_8_0,\n",
    "           order=['CMA-ES5', 'CMA-ES10', 'OpenAI-ES', 'OpenAI-ES10'],\n",
    "           nomes=['CMA-ES', 'CMA-ES\\nModificado', 'OpenAI-ES', 'OpenAI-ES\\nModificado'],\n",
    "            name='vs_8_0_mod_2' )"
   ]
  },
  {
   "cell_type": "markdown",
   "metadata": {},
   "source": [
    "8.5"
   ]
  },
  {
   "cell_type": "code",
   "execution_count": null,
   "metadata": {},
   "outputs": [],
   "source": [
    "# create_img(data = df_vs_8_5,\n",
    "#            order=['DE Modificado', 'CMA-ES', 'CMA-ES\\nModificado', 'OpenAI-ES', 'OpenAI-ES\\nModificado'],\n",
    "#            name='vs_8_5_mod' )"
   ]
  },
  {
   "cell_type": "code",
   "execution_count": null,
   "metadata": {},
   "outputs": [],
   "source": [
    "# #2\n",
    "# create_img(data = df_vs_8_5,\n",
    "#            order=['DE Modificado', 'CMA-ES5', 'CMA-ES10', 'OpenAI-ES5', 'OpenAI-ES10'],\n",
    "#            name='vs_8_5_mod' )"
   ]
  },
  {
   "cell_type": "code",
   "execution_count": null,
   "metadata": {},
   "outputs": [],
   "source": [
    "# depois 2\n",
    "create_img2(data = df_vs_8_5,\n",
    "           order=['DE Modificado', 'CMA-ES', 'CMA-ES10', 'OpenAI-ES', 'OpenAI-ES10'],\n",
    "           nomes=['DE Modificado', 'CMA-ES', 'CMA-ES\\nModificado', 'OpenAI-ES', 'OpenAI-ES\\nModificado'],\n",
    "           name='vs_8_5_mod' )"
   ]
  },
  {
   "cell_type": "code",
   "execution_count": null,
   "metadata": {},
   "outputs": [],
   "source": [
    "# create_img(data = df_vs_8_5,\n",
    "#            order=['CMA-ES', 'CMA-ES\\nModificado', 'OpenAI-ES', 'OpenAI-ES\\nModificado'],\n",
    "#            name='vs_8_5_mod_2' )"
   ]
  },
  {
   "cell_type": "code",
   "execution_count": null,
   "metadata": {},
   "outputs": [],
   "source": [
    "# #2\n",
    "# create_img(data = df_vs_8_5,\n",
    "#            order=['CMA-ES5', 'CMA-ES10', 'OpenAI-ES5', 'OpenAI-ES10'],\n",
    "#            name='vs_8_5_mod_2' )"
   ]
  },
  {
   "cell_type": "code",
   "execution_count": null,
   "metadata": {},
   "outputs": [],
   "source": [
    "# depois 2\n",
    "create_img2(data = df_vs_8_5,\n",
    "           order=['CMA-ES', 'CMA-ES10', 'OpenAI-ES', 'OpenAI-ES10'],\n",
    "           nomes=['CMA-ES', 'CMA-ES\\nModificado', 'OpenAI-ES', 'OpenAI-ES\\nModificado'],\n",
    "           name='vs_8_5_mod_2' )"
   ]
  },
  {
   "cell_type": "markdown",
   "metadata": {},
   "source": [
    "## Tabelas"
   ]
  },
  {
   "cell_type": "code",
   "execution_count": null,
   "metadata": {},
   "outputs": [],
   "source": [
    "def get_min_row(data):\n",
    "    indices_menores_valores_PB = data.groupby('Algoritmo')['Brake Power'].idxmin()\n",
    "    # Selecione as linhas originais usando os índices\n",
    "    linhas_menores_valores_PB = data.loc[indices_menores_valores_PB]\n",
    "    return linhas_menores_valores_PB\n",
    "\n",
    "def get_min(data):\n",
    "    menores_valores_PB = data.groupby('Algoritmo')['Brake Power'].min()\n",
    "    return menores_valores_PB\n"
   ]
  },
  {
   "cell_type": "code",
   "execution_count": null,
   "metadata": {},
   "outputs": [],
   "source": [
    "# df = df_vs_7_0\n",
    "# df = df_vs_7_5\n",
    "df = df_vs_8_0\n",
    "# df = df_vs_8_5"
   ]
  },
  {
   "cell_type": "code",
   "execution_count": null,
   "metadata": {},
   "outputs": [],
   "source": [
    "get_min(data = df)\n",
    "# algoritmos= ['DE Base', 'DE Modificado', 'CMA-ES', 'OpenAI-ES', 'Coordinate\\nDescent', 'Busca\\nAleatória'])           \n"
   ]
  },
  {
   "cell_type": "code",
   "execution_count": null,
   "metadata": {},
   "outputs": [],
   "source": [
    "for r in get_min_row(data = df).to_numpy():\n",
    "    print(r)"
   ]
  }
 ],
 "metadata": {
  "kernelspec": {
   "display_name": "Python 3 (ipykernel)",
   "language": "python",
   "name": "python3"
  },
  "language_info": {
   "codemirror_mode": {
    "name": "ipython",
    "version": 3
   },
   "file_extension": ".py",
   "mimetype": "text/x-python",
   "name": "python",
   "nbconvert_exporter": "python",
   "pygments_lexer": "ipython3",
   "version": "3.10.12"
  }
 },
 "nbformat": 4,
 "nbformat_minor": 2
}
