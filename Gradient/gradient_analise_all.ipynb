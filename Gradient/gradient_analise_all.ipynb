{
 "cells": [
  {
   "cell_type": "code",
   "execution_count": 1,
   "id": "3f33140f",
   "metadata": {},
   "outputs": [],
   "source": [
    "# for creating a responsive plot\n",
    "# %matplotlib notebook\n",
    "\n",
    "from mpl_toolkits.mplot3d import Axes3D\n",
    "import matplotlib.pyplot as plt"
   ]
  },
  {
   "cell_type": "code",
   "execution_count": 2,
   "id": "c61d73d5",
   "metadata": {},
   "outputs": [],
   "source": [
    "import numpy as np\n",
    "import csv\n",
    "from datetime import datetime\n",
    "from os import mkdir, listdir\n",
    "\n",
    "import pandas as pd"
   ]
  },
  {
   "cell_type": "code",
   "execution_count": 3,
   "id": "6b94df0f",
   "metadata": {},
   "outputs": [],
   "source": [
    "# -------- range of the variables ----------\n",
    "range_D     = [0.5, 0.8]\n",
    "range_AEdAO = [0.3, 1.05]\n",
    "range_PdD   = [0.5, 1.4]\n",
    "range_Z     = [2, 7]"
   ]
  },
  {
   "cell_type": "code",
   "execution_count": 4,
   "id": "e94d8ce3",
   "metadata": {},
   "outputs": [],
   "source": [
    "dir_name = 'gradient_join'\n",
    "V_Ss = ['7_0', '7_5', '8_0']"
   ]
  },
  {
   "cell_type": "code",
   "execution_count": 5,
   "id": "8e011b90",
   "metadata": {},
   "outputs": [],
   "source": [
    "dfs_vs = {}   # dict of (dicts for df by z) for each V_S\n",
    "for V_S in V_Ss:\n",
    "    dir_name = 'gradients/'+V_S\n",
    "    dfs = {} # dicts for df by z\n",
    "    for filename in listdir(dir_name):\n",
    "        z = int(filename[0])\n",
    "        filename = dir_name+'/'+filename\n",
    "        df = pd.read_csv(filename)\n",
    "        # select only the collums\n",
    "        # D, AEdAO, PdD, P_B\n",
    "        df = df.iloc[:, [0,1,2,4]]\n",
    "        df = df.set_axis([\"D\", \"AEdAO\", \"PdD\", \"P_B\"], axis=1)\n",
    "        # select the non null power brake\n",
    "        df = df.loc[df['P_B'] > 0]\n",
    "        df = df.astype(float)\n",
    "        dfs[z] = df\n",
    "    dfs_vs[V_S] = dfs"
   ]
  },
  {
   "cell_type": "code",
   "execution_count": 6,
   "id": "52563dd2",
   "metadata": {},
   "outputs": [
    {
     "data": {
      "text/html": [
       "<div>\n",
       "<style scoped>\n",
       "    .dataframe tbody tr th:only-of-type {\n",
       "        vertical-align: middle;\n",
       "    }\n",
       "\n",
       "    .dataframe tbody tr th {\n",
       "        vertical-align: top;\n",
       "    }\n",
       "\n",
       "    .dataframe thead th {\n",
       "        text-align: right;\n",
       "    }\n",
       "</style>\n",
       "<table border=\"1\" class=\"dataframe\">\n",
       "  <thead>\n",
       "    <tr style=\"text-align: right;\">\n",
       "      <th></th>\n",
       "      <th>D</th>\n",
       "      <th>AEdAO</th>\n",
       "      <th>PdD</th>\n",
       "      <th>P_B</th>\n",
       "    </tr>\n",
       "  </thead>\n",
       "  <tbody>\n",
       "    <tr>\n",
       "      <th>140</th>\n",
       "      <td>0.593103</td>\n",
       "      <td>1.050000</td>\n",
       "      <td>0.732759</td>\n",
       "      <td>110.296562</td>\n",
       "    </tr>\n",
       "    <tr>\n",
       "      <th>141</th>\n",
       "      <td>0.593103</td>\n",
       "      <td>1.050000</td>\n",
       "      <td>0.706897</td>\n",
       "      <td>110.515755</td>\n",
       "    </tr>\n",
       "    <tr>\n",
       "      <th>231</th>\n",
       "      <td>0.593103</td>\n",
       "      <td>1.031034</td>\n",
       "      <td>0.706897</td>\n",
       "      <td>110.276659</td>\n",
       "    </tr>\n",
       "    <tr>\n",
       "      <th>408</th>\n",
       "      <td>0.610345</td>\n",
       "      <td>1.050000</td>\n",
       "      <td>0.784483</td>\n",
       "      <td>107.630304</td>\n",
       "    </tr>\n",
       "    <tr>\n",
       "      <th>409</th>\n",
       "      <td>0.610345</td>\n",
       "      <td>1.050000</td>\n",
       "      <td>0.758621</td>\n",
       "      <td>107.586090</td>\n",
       "    </tr>\n",
       "    <tr>\n",
       "      <th>...</th>\n",
       "      <td>...</td>\n",
       "      <td>...</td>\n",
       "      <td>...</td>\n",
       "      <td>...</td>\n",
       "    </tr>\n",
       "    <tr>\n",
       "      <th>25165</th>\n",
       "      <td>0.705172</td>\n",
       "      <td>0.708621</td>\n",
       "      <td>0.603448</td>\n",
       "      <td>92.111398</td>\n",
       "    </tr>\n",
       "    <tr>\n",
       "      <th>25166</th>\n",
       "      <td>0.705172</td>\n",
       "      <td>0.708621</td>\n",
       "      <td>0.577586</td>\n",
       "      <td>92.570653</td>\n",
       "    </tr>\n",
       "    <tr>\n",
       "      <th>25285</th>\n",
       "      <td>0.687931</td>\n",
       "      <td>0.746552</td>\n",
       "      <td>0.603448</td>\n",
       "      <td>94.577040</td>\n",
       "    </tr>\n",
       "    <tr>\n",
       "      <th>25286</th>\n",
       "      <td>0.687931</td>\n",
       "      <td>0.746552</td>\n",
       "      <td>0.577586</td>\n",
       "      <td>95.117385</td>\n",
       "    </tr>\n",
       "    <tr>\n",
       "      <th>25466</th>\n",
       "      <td>0.687931</td>\n",
       "      <td>0.727586</td>\n",
       "      <td>0.577586</td>\n",
       "      <td>94.746645</td>\n",
       "    </tr>\n",
       "  </tbody>\n",
       "</table>\n",
       "<p>4834 rows × 4 columns</p>\n",
       "</div>"
      ],
      "text/plain": [
       "              D     AEdAO       PdD         P_B\n",
       "140    0.593103  1.050000  0.732759  110.296562\n",
       "141    0.593103  1.050000  0.706897  110.515755\n",
       "231    0.593103  1.031034  0.706897  110.276659\n",
       "408    0.610345  1.050000  0.784483  107.630304\n",
       "409    0.610345  1.050000  0.758621  107.586090\n",
       "...         ...       ...       ...         ...\n",
       "25165  0.705172  0.708621  0.603448   92.111398\n",
       "25166  0.705172  0.708621  0.577586   92.570653\n",
       "25285  0.687931  0.746552  0.603448   94.577040\n",
       "25286  0.687931  0.746552  0.577586   95.117385\n",
       "25466  0.687931  0.727586  0.577586   94.746645\n",
       "\n",
       "[4834 rows x 4 columns]"
      ]
     },
     "execution_count": 6,
     "metadata": {},
     "output_type": "execute_result"
    }
   ],
   "source": [
    "dfs_vs['7_0'][4]"
   ]
  },
  {
   "cell_type": "code",
   "execution_count": 7,
   "id": "d540af12",
   "metadata": {},
   "outputs": [
    {
     "name": "stdout",
     "output_type": "stream",
     "text": [
      "Amount of valid solutions found for each Z\n",
      "7_0\n",
      "  5 4858\n",
      "  2 4577\n",
      "  6 4840\n",
      "  3 4722\n",
      "  7 4355\n",
      "  4 4834\n",
      "7_5\n",
      "  5 3068\n",
      "  2 2792\n",
      "  6 3118\n",
      "  3 2913\n",
      "  7 2438\n",
      "  4 3021\n",
      "8_0\n",
      "  6 162\n",
      "  4 122\n"
     ]
    }
   ],
   "source": [
    "print('Amount of valid solutions found for each Z')\n",
    "\n",
    "for vs in dfs_vs:\n",
    "    print(vs)\n",
    "    dfs = dfs_vs[vs]\n",
    "    for z in dfs:\n",
    "        print(' ', z, len(dfs[z]))"
   ]
  },
  {
   "cell_type": "code",
   "execution_count": 34,
   "id": "0cb84a98",
   "metadata": {},
   "outputs": [
    {
     "data": {
      "image/png": "[encoded data removed]",
      "text/plain": [
       "<Figure size 640x480 with 1 Axes>"
      ]
     },
     "metadata": {},
     "output_type": "display_data"
    }
   ],
   "source": [
    "# create data\n",
    "x = np.arange(6)\n",
    "vs = '7_0'\n",
    "y1 = [len(dfs_vs[vs][z]) if (z in dfs_vs[vs]) else 0 for z in range(2,8)]\n",
    "vs = '7_5'\n",
    "y2 = [len(dfs_vs[vs][z]) if (z in dfs_vs[vs]) else 0 for z in range(2,8)]\n",
    "vs = '8_0'\n",
    "y3 = [len(dfs_vs[vs][z]) if (z in dfs_vs[vs]) else 0 for z in range(2,8)]\n",
    "width = 0.2\n",
    "\n",
    "# plot data in grouped manner of bar type\n",
    "plt.bar(x-0.2, y1, width)\n",
    "plt.bar(x, y2, width)\n",
    "plt.bar(x+0.2, y3, width)\n",
    "plt.xticks(x, [str(z) for z in range(2,8)])\n",
    "plt.xlabel(\"Z (Number of blades)\")\n",
    "plt.ylabel(\"Valid solutions\")\n",
    "plt.legend([\"7.0\", \"7.5\", \"8.0\"], title='V_S')\n",
    "plt.ylim(0,6000)\n",
    "plt.show()\n"
   ]
  }
 ],
 "metadata": {
  "kernelspec": {
   "display_name": "Python 3 (ipykernel)",
   "language": "python",
   "name": "python3"
  },
  "language_info": {
   "codemirror_mode": {
    "name": "ipython",
    "version": 3
   },
   "file_extension": ".py",
   "mimetype": "text/x-python",
   "name": "python",
   "nbconvert_exporter": "python",
   "pygments_lexer": "ipython3",
   "version": "3.7.16"
  }
 },
 "nbformat": 4,
 "nbformat_minor": 5
}
