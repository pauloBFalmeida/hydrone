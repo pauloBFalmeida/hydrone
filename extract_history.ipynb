{
 "cells": [
  {
   "cell_type": "code",
   "execution_count": 16,
   "id": "261976ea",
   "metadata": {
    "scrolled": false
   },
   "outputs": [],
   "source": [
    "import os\n",
    "import csv\n",
    "\n",
    "for i in range(10):\n",
    "    filename = 'allCodesOctave_' + str(i) + '/all_run.csv'\n",
    "    history = []\n",
    "    with open(filename, 'r', newline='') as file:\n",
    "        reader = csv.reader(file, delimiter=',')\n",
    "        for row in reader:\n",
    "            if 'best' in row[0]:\n",
    "                # iteration = row[0].split(' ')[-1]\n",
    "                fit = -float(row[1])\n",
    "                history.append(str(fit))\n",
    "    #  put fitness in best_file\n",
    "    filename = 'best_results/'+ 'best_results_'+str(i)+'_original.csv'\n",
    "    with open(filename, 'a', newline='') as file:\n",
    "        writer = csv.writer(file, delimiter=',')\n",
    "        writer.writerow(['history'])\n",
    "        writer.writerow(history)"
   ]
  }
 ],
 "metadata": {
  "kernelspec": {
   "display_name": "Python 3 (ipykernel)",
   "language": "python",
   "name": "python3"
  },
  "language_info": {
   "codemirror_mode": {
    "name": "ipython",
    "version": 3
   },
   "file_extension": ".py",
   "mimetype": "text/x-python",
   "name": "python",
   "nbconvert_exporter": "python",
   "pygments_lexer": "ipython3",
   "version": "3.7.16"
  }
 },
 "nbformat": 4,
 "nbformat_minor": 5
}
